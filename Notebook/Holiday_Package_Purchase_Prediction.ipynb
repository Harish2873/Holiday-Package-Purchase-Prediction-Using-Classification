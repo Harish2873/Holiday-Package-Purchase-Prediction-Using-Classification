{
  "cells": [
    {
      "cell_type": "code",
      "execution_count": 1,
      "metadata": {
        "id": "hsKEUM4jxbnA"
      },
      "outputs": [],
      "source": [
        "# Importing Libraries\n",
        "import numpy as np\n",
        "import pandas as pd\n",
        "import matplotlib.pyplot as plt\n",
        "import seaborn as sns"
      ]
    },
    {
      "cell_type": "code",
      "execution_count": 9,
      "metadata": {},
      "outputs": [
        {
          "name": "stderr",
          "output_type": "stream",
          "text": [
            "<>:2: SyntaxWarning: invalid escape sequence '\\D'\n",
            "<>:2: SyntaxWarning: invalid escape sequence '\\D'\n",
            "C:\\Users\\ELCOT\\AppData\\Local\\Temp\\ipykernel_7532\\1675210096.py:2: SyntaxWarning: invalid escape sequence '\\D'\n",
            "  df = pd.read_csv('..\\Dataset\\Travel.csv')\n"
          ]
        },
        {
          "data": {
            "text/html": [
              "<div>\n",
              "<style scoped>\n",
              "    .dataframe tbody tr th:only-of-type {\n",
              "        vertical-align: middle;\n",
              "    }\n",
              "\n",
              "    .dataframe tbody tr th {\n",
              "        vertical-align: top;\n",
              "    }\n",
              "\n",
              "    .dataframe thead th {\n",
              "        text-align: right;\n",
              "    }\n",
              "</style>\n",
              "<table border=\"1\" class=\"dataframe\">\n",
              "  <thead>\n",
              "    <tr style=\"text-align: right;\">\n",
              "      <th></th>\n",
              "      <th>CustomerID</th>\n",
              "      <th>ProdTaken</th>\n",
              "      <th>Age</th>\n",
              "      <th>TypeofContact</th>\n",
              "      <th>CityTier</th>\n",
              "      <th>DurationOfPitch</th>\n",
              "      <th>Occupation</th>\n",
              "      <th>Gender</th>\n",
              "      <th>NumberOfPersonVisiting</th>\n",
              "      <th>NumberOfFollowups</th>\n",
              "      <th>ProductPitched</th>\n",
              "      <th>PreferredPropertyStar</th>\n",
              "      <th>MaritalStatus</th>\n",
              "      <th>NumberOfTrips</th>\n",
              "      <th>Passport</th>\n",
              "      <th>PitchSatisfactionScore</th>\n",
              "      <th>OwnCar</th>\n",
              "      <th>NumberOfChildrenVisiting</th>\n",
              "      <th>Designation</th>\n",
              "      <th>MonthlyIncome</th>\n",
              "    </tr>\n",
              "  </thead>\n",
              "  <tbody>\n",
              "    <tr>\n",
              "      <th>0</th>\n",
              "      <td>200000</td>\n",
              "      <td>1</td>\n",
              "      <td>41.0</td>\n",
              "      <td>Self Enquiry</td>\n",
              "      <td>3</td>\n",
              "      <td>6.0</td>\n",
              "      <td>Salaried</td>\n",
              "      <td>Female</td>\n",
              "      <td>3</td>\n",
              "      <td>3.0</td>\n",
              "      <td>Deluxe</td>\n",
              "      <td>3.0</td>\n",
              "      <td>Single</td>\n",
              "      <td>1.0</td>\n",
              "      <td>1</td>\n",
              "      <td>2</td>\n",
              "      <td>1</td>\n",
              "      <td>0.0</td>\n",
              "      <td>Manager</td>\n",
              "      <td>20993.0</td>\n",
              "    </tr>\n",
              "    <tr>\n",
              "      <th>1</th>\n",
              "      <td>200001</td>\n",
              "      <td>0</td>\n",
              "      <td>49.0</td>\n",
              "      <td>Company Invited</td>\n",
              "      <td>1</td>\n",
              "      <td>14.0</td>\n",
              "      <td>Salaried</td>\n",
              "      <td>Male</td>\n",
              "      <td>3</td>\n",
              "      <td>4.0</td>\n",
              "      <td>Deluxe</td>\n",
              "      <td>4.0</td>\n",
              "      <td>Divorced</td>\n",
              "      <td>2.0</td>\n",
              "      <td>0</td>\n",
              "      <td>3</td>\n",
              "      <td>1</td>\n",
              "      <td>2.0</td>\n",
              "      <td>Manager</td>\n",
              "      <td>20130.0</td>\n",
              "    </tr>\n",
              "    <tr>\n",
              "      <th>2</th>\n",
              "      <td>200002</td>\n",
              "      <td>1</td>\n",
              "      <td>37.0</td>\n",
              "      <td>Self Enquiry</td>\n",
              "      <td>1</td>\n",
              "      <td>8.0</td>\n",
              "      <td>Free Lancer</td>\n",
              "      <td>Male</td>\n",
              "      <td>3</td>\n",
              "      <td>4.0</td>\n",
              "      <td>Basic</td>\n",
              "      <td>3.0</td>\n",
              "      <td>Single</td>\n",
              "      <td>7.0</td>\n",
              "      <td>1</td>\n",
              "      <td>3</td>\n",
              "      <td>0</td>\n",
              "      <td>0.0</td>\n",
              "      <td>Executive</td>\n",
              "      <td>17090.0</td>\n",
              "    </tr>\n",
              "    <tr>\n",
              "      <th>3</th>\n",
              "      <td>200003</td>\n",
              "      <td>0</td>\n",
              "      <td>33.0</td>\n",
              "      <td>Company Invited</td>\n",
              "      <td>1</td>\n",
              "      <td>9.0</td>\n",
              "      <td>Salaried</td>\n",
              "      <td>Female</td>\n",
              "      <td>2</td>\n",
              "      <td>3.0</td>\n",
              "      <td>Basic</td>\n",
              "      <td>3.0</td>\n",
              "      <td>Divorced</td>\n",
              "      <td>2.0</td>\n",
              "      <td>1</td>\n",
              "      <td>5</td>\n",
              "      <td>1</td>\n",
              "      <td>1.0</td>\n",
              "      <td>Executive</td>\n",
              "      <td>17909.0</td>\n",
              "    </tr>\n",
              "    <tr>\n",
              "      <th>4</th>\n",
              "      <td>200004</td>\n",
              "      <td>0</td>\n",
              "      <td>NaN</td>\n",
              "      <td>Self Enquiry</td>\n",
              "      <td>1</td>\n",
              "      <td>8.0</td>\n",
              "      <td>Small Business</td>\n",
              "      <td>Male</td>\n",
              "      <td>2</td>\n",
              "      <td>3.0</td>\n",
              "      <td>Basic</td>\n",
              "      <td>4.0</td>\n",
              "      <td>Divorced</td>\n",
              "      <td>1.0</td>\n",
              "      <td>0</td>\n",
              "      <td>5</td>\n",
              "      <td>1</td>\n",
              "      <td>0.0</td>\n",
              "      <td>Executive</td>\n",
              "      <td>18468.0</td>\n",
              "    </tr>\n",
              "  </tbody>\n",
              "</table>\n",
              "</div>"
            ],
            "text/plain": [
              "   CustomerID  ProdTaken   Age    TypeofContact  CityTier  DurationOfPitch  \\\n",
              "0      200000          1  41.0     Self Enquiry         3              6.0   \n",
              "1      200001          0  49.0  Company Invited         1             14.0   \n",
              "2      200002          1  37.0     Self Enquiry         1              8.0   \n",
              "3      200003          0  33.0  Company Invited         1              9.0   \n",
              "4      200004          0   NaN     Self Enquiry         1              8.0   \n",
              "\n",
              "       Occupation  Gender  NumberOfPersonVisiting  NumberOfFollowups  \\\n",
              "0        Salaried  Female                       3                3.0   \n",
              "1        Salaried    Male                       3                4.0   \n",
              "2     Free Lancer    Male                       3                4.0   \n",
              "3        Salaried  Female                       2                3.0   \n",
              "4  Small Business    Male                       2                3.0   \n",
              "\n",
              "  ProductPitched  PreferredPropertyStar MaritalStatus  NumberOfTrips  \\\n",
              "0         Deluxe                    3.0        Single            1.0   \n",
              "1         Deluxe                    4.0      Divorced            2.0   \n",
              "2          Basic                    3.0        Single            7.0   \n",
              "3          Basic                    3.0      Divorced            2.0   \n",
              "4          Basic                    4.0      Divorced            1.0   \n",
              "\n",
              "   Passport  PitchSatisfactionScore  OwnCar  NumberOfChildrenVisiting  \\\n",
              "0         1                       2       1                       0.0   \n",
              "1         0                       3       1                       2.0   \n",
              "2         1                       3       0                       0.0   \n",
              "3         1                       5       1                       1.0   \n",
              "4         0                       5       1                       0.0   \n",
              "\n",
              "  Designation  MonthlyIncome  \n",
              "0     Manager        20993.0  \n",
              "1     Manager        20130.0  \n",
              "2   Executive        17090.0  \n",
              "3   Executive        17909.0  \n",
              "4   Executive        18468.0  "
            ]
          },
          "execution_count": 9,
          "metadata": {},
          "output_type": "execute_result"
        }
      ],
      "source": [
        "# Loading Dataset\n",
        "df = pd.read_csv('..\\Dataset\\Travel.csv')\n",
        "df.head()"
      ]
    },
    {
      "cell_type": "markdown",
      "metadata": {
        "id": "KoMEjn7zkqi1"
      },
      "source": [
        "## Data Cleaning\n",
        "1. Handling Missing values\n",
        "2. Handling Duplicates\n",
        "3. Check data type\n",
        "4. Understand the dataset"
      ]
    },
    {
      "cell_type": "code",
      "execution_count": 10,
      "metadata": {
        "colab": {
          "base_uri": "https://localhost:8080/",
          "height": 711
        },
        "id": "5xpafeHN0ILS",
        "outputId": "b21dfde1-106d-4be1-dd3a-03861d81342f"
      },
      "outputs": [
        {
          "data": {
            "text/plain": [
              "CustomerID                    0\n",
              "ProdTaken                     0\n",
              "Age                         226\n",
              "TypeofContact                25\n",
              "CityTier                      0\n",
              "DurationOfPitch             251\n",
              "Occupation                    0\n",
              "Gender                        0\n",
              "NumberOfPersonVisiting        0\n",
              "NumberOfFollowups            45\n",
              "ProductPitched                0\n",
              "PreferredPropertyStar        26\n",
              "MaritalStatus                 0\n",
              "NumberOfTrips               140\n",
              "Passport                      0\n",
              "PitchSatisfactionScore        0\n",
              "OwnCar                        0\n",
              "NumberOfChildrenVisiting     66\n",
              "Designation                   0\n",
              "MonthlyIncome               233\n",
              "dtype: int64"
            ]
          },
          "execution_count": 10,
          "metadata": {},
          "output_type": "execute_result"
        }
      ],
      "source": [
        "df.isnull().sum()"
      ]
    },
    {
      "cell_type": "code",
      "execution_count": 11,
      "metadata": {
        "colab": {
          "base_uri": "https://localhost:8080/"
        },
        "id": "39vy6WS75rm3",
        "outputId": "84b29778-956e-47ef-f397-e9e765dd7853"
      },
      "outputs": [
        {
          "data": {
            "text/plain": [
              "Index(['CustomerID', 'ProdTaken', 'Age', 'TypeofContact', 'CityTier',\n",
              "       'DurationOfPitch', 'Occupation', 'Gender', 'NumberOfPersonVisiting',\n",
              "       'NumberOfFollowups', 'ProductPitched', 'PreferredPropertyStar',\n",
              "       'MaritalStatus', 'NumberOfTrips', 'Passport', 'PitchSatisfactionScore',\n",
              "       'OwnCar', 'NumberOfChildrenVisiting', 'Designation', 'MonthlyIncome'],\n",
              "      dtype='object')"
            ]
          },
          "execution_count": 11,
          "metadata": {},
          "output_type": "execute_result"
        }
      ],
      "source": [
        "df.columns"
      ]
    },
    {
      "cell_type": "code",
      "execution_count": 12,
      "metadata": {
        "colab": {
          "base_uri": "https://localhost:8080/",
          "height": 178
        },
        "id": "i3Vvlr-c12Oo",
        "outputId": "68c5176a-79e9-4c7d-f156-cfaa41831467"
      },
      "outputs": [
        {
          "data": {
            "text/plain": [
              "ProdTaken\n",
              "0    3968\n",
              "1     920\n",
              "Name: count, dtype: int64"
            ]
          },
          "execution_count": 12,
          "metadata": {},
          "output_type": "execute_result"
        }
      ],
      "source": [
        "df['ProdTaken'].value_counts()"
      ]
    },
    {
      "cell_type": "code",
      "execution_count": 13,
      "metadata": {
        "colab": {
          "base_uri": "https://localhost:8080/",
          "height": 241
        },
        "id": "M-bJGWUK5Rdp",
        "outputId": "d0ce714b-175e-4512-e3f5-f1f62860bb2b"
      },
      "outputs": [
        {
          "data": {
            "text/plain": [
              "Occupation\n",
              "Salaried          2368\n",
              "Small Business    2084\n",
              "Large Business     434\n",
              "Free Lancer          2\n",
              "Name: count, dtype: int64"
            ]
          },
          "execution_count": 13,
          "metadata": {},
          "output_type": "execute_result"
        }
      ],
      "source": [
        "df['Occupation'].value_counts()"
      ]
    },
    {
      "cell_type": "code",
      "execution_count": 14,
      "metadata": {
        "colab": {
          "base_uri": "https://localhost:8080/",
          "height": 210
        },
        "id": "QQiB4x_756GX",
        "outputId": "4720d9ad-38f9-46e7-efe8-6bf5f9578a55"
      },
      "outputs": [
        {
          "data": {
            "text/plain": [
              "Gender\n",
              "Male       2916\n",
              "Female     1817\n",
              "Fe Male     155\n",
              "Name: count, dtype: int64"
            ]
          },
          "execution_count": 14,
          "metadata": {},
          "output_type": "execute_result"
        }
      ],
      "source": [
        "df['Gender'].value_counts()"
      ]
    },
    {
      "cell_type": "code",
      "execution_count": 15,
      "metadata": {
        "id": "9WnEgOTq6gWJ"
      },
      "outputs": [],
      "source": [
        "df['Gender']=df['Gender'].replace('Fe Male', 'Female')"
      ]
    },
    {
      "cell_type": "code",
      "execution_count": 16,
      "metadata": {
        "colab": {
          "base_uri": "https://localhost:8080/",
          "height": 178
        },
        "id": "JyK80Jt86vMZ",
        "outputId": "b6932818-e169-4cf2-a521-6fa7374dbe72"
      },
      "outputs": [
        {
          "data": {
            "text/plain": [
              "Gender\n",
              "Male      2916\n",
              "Female    1972\n",
              "Name: count, dtype: int64"
            ]
          },
          "execution_count": 16,
          "metadata": {},
          "output_type": "execute_result"
        }
      ],
      "source": [
        "df['Gender'].value_counts()"
      ]
    },
    {
      "cell_type": "code",
      "execution_count": 17,
      "metadata": {
        "colab": {
          "base_uri": "https://localhost:8080/",
          "height": 241
        },
        "id": "1kf25C0U5_BI",
        "outputId": "0f23bfed-3300-4890-8a05-1020c90b3073"
      },
      "outputs": [
        {
          "data": {
            "text/plain": [
              "MaritalStatus\n",
              "Married      2340\n",
              "Divorced      950\n",
              "Single        916\n",
              "Unmarried     682\n",
              "Name: count, dtype: int64"
            ]
          },
          "execution_count": 17,
          "metadata": {},
          "output_type": "execute_result"
        }
      ],
      "source": [
        "df['MaritalStatus'].value_counts()"
      ]
    },
    {
      "cell_type": "code",
      "execution_count": 18,
      "metadata": {
        "id": "YX9WOCfp6zfh"
      },
      "outputs": [],
      "source": [
        "df['MaritalStatus']=df['MaritalStatus'].replace('Single','Unmarried')"
      ]
    },
    {
      "cell_type": "code",
      "execution_count": 19,
      "metadata": {
        "colab": {
          "base_uri": "https://localhost:8080/",
          "height": 210
        },
        "id": "YIkDMDb57HzD",
        "outputId": "cb015102-04f3-499a-ad0a-1c92f42e7e27"
      },
      "outputs": [
        {
          "data": {
            "text/plain": [
              "MaritalStatus\n",
              "Married      2340\n",
              "Unmarried    1598\n",
              "Divorced      950\n",
              "Name: count, dtype: int64"
            ]
          },
          "execution_count": 19,
          "metadata": {},
          "output_type": "execute_result"
        }
      ],
      "source": [
        "df['MaritalStatus'].value_counts()"
      ]
    },
    {
      "cell_type": "code",
      "execution_count": 20,
      "metadata": {
        "colab": {
          "base_uri": "https://localhost:8080/",
          "height": 241
        },
        "id": "nH30QLDT6D6c",
        "outputId": "7b62e4ae-f4fc-4429-d29d-c554d7052976"
      },
      "outputs": [
        {
          "data": {
            "text/plain": [
              "NumberOfChildrenVisiting\n",
              "1.0    2080\n",
              "2.0    1335\n",
              "0.0    1082\n",
              "3.0     325\n",
              "Name: count, dtype: int64"
            ]
          },
          "execution_count": 20,
          "metadata": {},
          "output_type": "execute_result"
        }
      ],
      "source": [
        "df['NumberOfChildrenVisiting'].value_counts()"
      ]
    },
    {
      "cell_type": "code",
      "execution_count": 21,
      "metadata": {
        "colab": {
          "base_uri": "https://localhost:8080/",
          "height": 304
        },
        "id": "4Riff3Q06Rli",
        "outputId": "c70a4a47-73d8-4929-b5a8-0945018cbcbc"
      },
      "outputs": [
        {
          "data": {
            "text/plain": [
              "NumberOfFollowups\n",
              "4.0    2068\n",
              "3.0    1466\n",
              "5.0     768\n",
              "2.0     229\n",
              "1.0     176\n",
              "6.0     136\n",
              "Name: count, dtype: int64"
            ]
          },
          "execution_count": 21,
          "metadata": {},
          "output_type": "execute_result"
        }
      ],
      "source": [
        "df['NumberOfFollowups'].value_counts()"
      ]
    },
    {
      "cell_type": "code",
      "execution_count": 22,
      "metadata": {
        "colab": {
          "base_uri": "https://localhost:8080/",
          "height": 272
        },
        "id": "xunHOWRy6VJ4",
        "outputId": "7c4d284f-4d7e-486d-d6e1-b76b995654eb"
      },
      "outputs": [
        {
          "data": {
            "text/plain": [
              "NumberOfPersonVisiting\n",
              "3    2402\n",
              "2    1418\n",
              "4    1026\n",
              "1      39\n",
              "5       3\n",
              "Name: count, dtype: int64"
            ]
          },
          "execution_count": 22,
          "metadata": {},
          "output_type": "execute_result"
        }
      ],
      "source": [
        "df['NumberOfPersonVisiting'].value_counts()"
      ]
    },
    {
      "cell_type": "code",
      "execution_count": 23,
      "metadata": {
        "colab": {
          "base_uri": "https://localhost:8080/",
          "height": 178
        },
        "id": "V4EJ5V3H6a3T",
        "outputId": "495fd349-37f6-4693-ffb4-5362334c467d"
      },
      "outputs": [
        {
          "data": {
            "text/plain": [
              "OwnCar\n",
              "1    3032\n",
              "0    1856\n",
              "Name: count, dtype: int64"
            ]
          },
          "execution_count": 23,
          "metadata": {},
          "output_type": "execute_result"
        }
      ],
      "source": [
        "df['OwnCar'].value_counts()"
      ]
    },
    {
      "cell_type": "code",
      "execution_count": 24,
      "metadata": {
        "colab": {
          "base_uri": "https://localhost:8080/",
          "height": 178
        },
        "id": "-lTWDmCL7TWT",
        "outputId": "0d2d6a55-dced-4267-f906-fb20b2488401"
      },
      "outputs": [
        {
          "data": {
            "text/plain": [
              "Passport\n",
              "0    3466\n",
              "1    1422\n",
              "Name: count, dtype: int64"
            ]
          },
          "execution_count": 24,
          "metadata": {},
          "output_type": "execute_result"
        }
      ],
      "source": [
        "df['Passport'].value_counts()"
      ]
    },
    {
      "cell_type": "code",
      "execution_count": 25,
      "metadata": {
        "colab": {
          "base_uri": "https://localhost:8080/",
          "height": 272
        },
        "id": "qXN23LkQ7WDW",
        "outputId": "a66b9eb8-4e1e-4732-ff27-3b6652585947"
      },
      "outputs": [
        {
          "data": {
            "text/plain": [
              "PitchSatisfactionScore\n",
              "3    1478\n",
              "5     970\n",
              "1     942\n",
              "4     912\n",
              "2     586\n",
              "Name: count, dtype: int64"
            ]
          },
          "execution_count": 25,
          "metadata": {},
          "output_type": "execute_result"
        }
      ],
      "source": [
        "df['PitchSatisfactionScore'].value_counts()"
      ]
    },
    {
      "cell_type": "code",
      "execution_count": 26,
      "metadata": {
        "colab": {
          "base_uri": "https://localhost:8080/",
          "height": 210
        },
        "id": "zDusKPC67Yd2",
        "outputId": "7b653a2d-38ad-4243-bedf-ed9679e2a1ac"
      },
      "outputs": [
        {
          "data": {
            "text/plain": [
              "PreferredPropertyStar\n",
              "3.0    2993\n",
              "5.0     956\n",
              "4.0     913\n",
              "Name: count, dtype: int64"
            ]
          },
          "execution_count": 26,
          "metadata": {},
          "output_type": "execute_result"
        }
      ],
      "source": [
        "df['PreferredPropertyStar'].value_counts()"
      ]
    },
    {
      "cell_type": "code",
      "execution_count": 27,
      "metadata": {
        "colab": {
          "base_uri": "https://localhost:8080/",
          "height": 272
        },
        "id": "JYB7BXF67dEb",
        "outputId": "a0f9ae2d-ea44-4e34-87cf-a01e6a83dffc"
      },
      "outputs": [
        {
          "data": {
            "text/plain": [
              "ProductPitched\n",
              "Basic           1842\n",
              "Deluxe          1732\n",
              "Standard         742\n",
              "Super Deluxe     342\n",
              "King             230\n",
              "Name: count, dtype: int64"
            ]
          },
          "execution_count": 27,
          "metadata": {},
          "output_type": "execute_result"
        }
      ],
      "source": [
        "df['ProductPitched'].value_counts()"
      ]
    },
    {
      "cell_type": "code",
      "execution_count": 28,
      "metadata": {
        "colab": {
          "base_uri": "https://localhost:8080/",
          "height": 178
        },
        "id": "UGe1gpp-7flp",
        "outputId": "dfa197b3-1da4-48ee-84b0-bd08704b43fc"
      },
      "outputs": [
        {
          "data": {
            "text/plain": [
              "TypeofContact\n",
              "Self Enquiry       3444\n",
              "Company Invited    1419\n",
              "Name: count, dtype: int64"
            ]
          },
          "execution_count": 28,
          "metadata": {},
          "output_type": "execute_result"
        }
      ],
      "source": [
        "df['TypeofContact'].value_counts()"
      ]
    },
    {
      "cell_type": "code",
      "execution_count": 29,
      "metadata": {
        "colab": {
          "base_uri": "https://localhost:8080/",
          "height": 278
        },
        "id": "EJ84a9ox7nB2",
        "outputId": "098a75a0-fbad-42bf-8b3e-86ede63fbf62"
      },
      "outputs": [
        {
          "data": {
            "text/html": [
              "<div>\n",
              "<style scoped>\n",
              "    .dataframe tbody tr th:only-of-type {\n",
              "        vertical-align: middle;\n",
              "    }\n",
              "\n",
              "    .dataframe tbody tr th {\n",
              "        vertical-align: top;\n",
              "    }\n",
              "\n",
              "    .dataframe thead th {\n",
              "        text-align: right;\n",
              "    }\n",
              "</style>\n",
              "<table border=\"1\" class=\"dataframe\">\n",
              "  <thead>\n",
              "    <tr style=\"text-align: right;\">\n",
              "      <th></th>\n",
              "      <th>CustomerID</th>\n",
              "      <th>ProdTaken</th>\n",
              "      <th>Age</th>\n",
              "      <th>TypeofContact</th>\n",
              "      <th>CityTier</th>\n",
              "      <th>DurationOfPitch</th>\n",
              "      <th>Occupation</th>\n",
              "      <th>Gender</th>\n",
              "      <th>NumberOfPersonVisiting</th>\n",
              "      <th>NumberOfFollowups</th>\n",
              "      <th>ProductPitched</th>\n",
              "      <th>PreferredPropertyStar</th>\n",
              "      <th>MaritalStatus</th>\n",
              "      <th>NumberOfTrips</th>\n",
              "      <th>Passport</th>\n",
              "      <th>PitchSatisfactionScore</th>\n",
              "      <th>OwnCar</th>\n",
              "      <th>NumberOfChildrenVisiting</th>\n",
              "      <th>Designation</th>\n",
              "      <th>MonthlyIncome</th>\n",
              "    </tr>\n",
              "  </thead>\n",
              "  <tbody>\n",
              "    <tr>\n",
              "      <th>0</th>\n",
              "      <td>200000</td>\n",
              "      <td>1</td>\n",
              "      <td>41.0</td>\n",
              "      <td>Self Enquiry</td>\n",
              "      <td>3</td>\n",
              "      <td>6.0</td>\n",
              "      <td>Salaried</td>\n",
              "      <td>Female</td>\n",
              "      <td>3</td>\n",
              "      <td>3.0</td>\n",
              "      <td>Deluxe</td>\n",
              "      <td>3.0</td>\n",
              "      <td>Unmarried</td>\n",
              "      <td>1.0</td>\n",
              "      <td>1</td>\n",
              "      <td>2</td>\n",
              "      <td>1</td>\n",
              "      <td>0.0</td>\n",
              "      <td>Manager</td>\n",
              "      <td>20993.0</td>\n",
              "    </tr>\n",
              "    <tr>\n",
              "      <th>1</th>\n",
              "      <td>200001</td>\n",
              "      <td>0</td>\n",
              "      <td>49.0</td>\n",
              "      <td>Company Invited</td>\n",
              "      <td>1</td>\n",
              "      <td>14.0</td>\n",
              "      <td>Salaried</td>\n",
              "      <td>Male</td>\n",
              "      <td>3</td>\n",
              "      <td>4.0</td>\n",
              "      <td>Deluxe</td>\n",
              "      <td>4.0</td>\n",
              "      <td>Divorced</td>\n",
              "      <td>2.0</td>\n",
              "      <td>0</td>\n",
              "      <td>3</td>\n",
              "      <td>1</td>\n",
              "      <td>2.0</td>\n",
              "      <td>Manager</td>\n",
              "      <td>20130.0</td>\n",
              "    </tr>\n",
              "    <tr>\n",
              "      <th>2</th>\n",
              "      <td>200002</td>\n",
              "      <td>1</td>\n",
              "      <td>37.0</td>\n",
              "      <td>Self Enquiry</td>\n",
              "      <td>1</td>\n",
              "      <td>8.0</td>\n",
              "      <td>Free Lancer</td>\n",
              "      <td>Male</td>\n",
              "      <td>3</td>\n",
              "      <td>4.0</td>\n",
              "      <td>Basic</td>\n",
              "      <td>3.0</td>\n",
              "      <td>Unmarried</td>\n",
              "      <td>7.0</td>\n",
              "      <td>1</td>\n",
              "      <td>3</td>\n",
              "      <td>0</td>\n",
              "      <td>0.0</td>\n",
              "      <td>Executive</td>\n",
              "      <td>17090.0</td>\n",
              "    </tr>\n",
              "    <tr>\n",
              "      <th>3</th>\n",
              "      <td>200003</td>\n",
              "      <td>0</td>\n",
              "      <td>33.0</td>\n",
              "      <td>Company Invited</td>\n",
              "      <td>1</td>\n",
              "      <td>9.0</td>\n",
              "      <td>Salaried</td>\n",
              "      <td>Female</td>\n",
              "      <td>2</td>\n",
              "      <td>3.0</td>\n",
              "      <td>Basic</td>\n",
              "      <td>3.0</td>\n",
              "      <td>Divorced</td>\n",
              "      <td>2.0</td>\n",
              "      <td>1</td>\n",
              "      <td>5</td>\n",
              "      <td>1</td>\n",
              "      <td>1.0</td>\n",
              "      <td>Executive</td>\n",
              "      <td>17909.0</td>\n",
              "    </tr>\n",
              "    <tr>\n",
              "      <th>4</th>\n",
              "      <td>200004</td>\n",
              "      <td>0</td>\n",
              "      <td>NaN</td>\n",
              "      <td>Self Enquiry</td>\n",
              "      <td>1</td>\n",
              "      <td>8.0</td>\n",
              "      <td>Small Business</td>\n",
              "      <td>Male</td>\n",
              "      <td>2</td>\n",
              "      <td>3.0</td>\n",
              "      <td>Basic</td>\n",
              "      <td>4.0</td>\n",
              "      <td>Divorced</td>\n",
              "      <td>1.0</td>\n",
              "      <td>0</td>\n",
              "      <td>5</td>\n",
              "      <td>1</td>\n",
              "      <td>0.0</td>\n",
              "      <td>Executive</td>\n",
              "      <td>18468.0</td>\n",
              "    </tr>\n",
              "  </tbody>\n",
              "</table>\n",
              "</div>"
            ],
            "text/plain": [
              "   CustomerID  ProdTaken   Age    TypeofContact  CityTier  DurationOfPitch  \\\n",
              "0      200000          1  41.0     Self Enquiry         3              6.0   \n",
              "1      200001          0  49.0  Company Invited         1             14.0   \n",
              "2      200002          1  37.0     Self Enquiry         1              8.0   \n",
              "3      200003          0  33.0  Company Invited         1              9.0   \n",
              "4      200004          0   NaN     Self Enquiry         1              8.0   \n",
              "\n",
              "       Occupation  Gender  NumberOfPersonVisiting  NumberOfFollowups  \\\n",
              "0        Salaried  Female                       3                3.0   \n",
              "1        Salaried    Male                       3                4.0   \n",
              "2     Free Lancer    Male                       3                4.0   \n",
              "3        Salaried  Female                       2                3.0   \n",
              "4  Small Business    Male                       2                3.0   \n",
              "\n",
              "  ProductPitched  PreferredPropertyStar MaritalStatus  NumberOfTrips  \\\n",
              "0         Deluxe                    3.0     Unmarried            1.0   \n",
              "1         Deluxe                    4.0      Divorced            2.0   \n",
              "2          Basic                    3.0     Unmarried            7.0   \n",
              "3          Basic                    3.0      Divorced            2.0   \n",
              "4          Basic                    4.0      Divorced            1.0   \n",
              "\n",
              "   Passport  PitchSatisfactionScore  OwnCar  NumberOfChildrenVisiting  \\\n",
              "0         1                       2       1                       0.0   \n",
              "1         0                       3       1                       2.0   \n",
              "2         1                       3       0                       0.0   \n",
              "3         1                       5       1                       1.0   \n",
              "4         0                       5       1                       0.0   \n",
              "\n",
              "  Designation  MonthlyIncome  \n",
              "0     Manager        20993.0  \n",
              "1     Manager        20130.0  \n",
              "2   Executive        17090.0  \n",
              "3   Executive        17909.0  \n",
              "4   Executive        18468.0  "
            ]
          },
          "execution_count": 29,
          "metadata": {},
          "output_type": "execute_result"
        }
      ],
      "source": [
        "df.head()"
      ]
    },
    {
      "cell_type": "code",
      "execution_count": 30,
      "metadata": {
        "colab": {
          "base_uri": "https://localhost:8080/"
        },
        "id": "9_YIUnnN7w5s",
        "outputId": "b6349f77-29ac-4c4f-8cb3-9443a800da87"
      },
      "outputs": [
        {
          "name": "stdout",
          "output_type": "stream",
          "text": [
            "Age 4.624 % Missing Values\n",
            "TypeofContact 0.511 % Missing Values\n",
            "DurationOfPitch 5.135 % Missing Values\n",
            "NumberOfFollowups 0.921 % Missing Values\n",
            "PreferredPropertyStar 0.532 % Missing Values\n",
            "NumberOfTrips 2.864 % Missing Values\n",
            "NumberOfChildrenVisiting 1.35 % Missing Values\n",
            "MonthlyIncome 4.767 % Missing Values\n"
          ]
        }
      ],
      "source": [
        "# Checking For Missing Value\n",
        "features_null = [features for features in df.columns if df[features].isnull().sum()>1]\n",
        "for features in features_null:\n",
        "  print(features,np.round(df[features].isnull().mean()*100,3),'%', 'Missing Values')"
      ]
    },
    {
      "cell_type": "code",
      "execution_count": 32,
      "metadata": {
        "colab": {
          "base_uri": "https://localhost:8080/",
          "height": 300
        },
        "id": "J_fSZj578CPX",
        "outputId": "71b9cbc4-4efc-430c-9024-8702ef0d17dc"
      },
      "outputs": [
        {
          "data": {
            "text/html": [
              "<div>\n",
              "<style scoped>\n",
              "    .dataframe tbody tr th:only-of-type {\n",
              "        vertical-align: middle;\n",
              "    }\n",
              "\n",
              "    .dataframe tbody tr th {\n",
              "        vertical-align: top;\n",
              "    }\n",
              "\n",
              "    .dataframe thead th {\n",
              "        text-align: right;\n",
              "    }\n",
              "</style>\n",
              "<table border=\"1\" class=\"dataframe\">\n",
              "  <thead>\n",
              "    <tr style=\"text-align: right;\">\n",
              "      <th></th>\n",
              "      <th>Age</th>\n",
              "      <th>DurationOfPitch</th>\n",
              "      <th>NumberOfFollowups</th>\n",
              "      <th>PreferredPropertyStar</th>\n",
              "      <th>NumberOfTrips</th>\n",
              "      <th>NumberOfChildrenVisiting</th>\n",
              "      <th>MonthlyIncome</th>\n",
              "    </tr>\n",
              "  </thead>\n",
              "  <tbody>\n",
              "    <tr>\n",
              "      <th>count</th>\n",
              "      <td>4662.000000</td>\n",
              "      <td>4637.000000</td>\n",
              "      <td>4843.000000</td>\n",
              "      <td>4862.000000</td>\n",
              "      <td>4748.000000</td>\n",
              "      <td>4822.000000</td>\n",
              "      <td>4655.000000</td>\n",
              "    </tr>\n",
              "    <tr>\n",
              "      <th>mean</th>\n",
              "      <td>37.622265</td>\n",
              "      <td>15.490835</td>\n",
              "      <td>3.708445</td>\n",
              "      <td>3.581037</td>\n",
              "      <td>3.236521</td>\n",
              "      <td>1.187267</td>\n",
              "      <td>23619.853491</td>\n",
              "    </tr>\n",
              "    <tr>\n",
              "      <th>std</th>\n",
              "      <td>9.316387</td>\n",
              "      <td>8.519643</td>\n",
              "      <td>1.002509</td>\n",
              "      <td>0.798009</td>\n",
              "      <td>1.849019</td>\n",
              "      <td>0.857861</td>\n",
              "      <td>5380.698361</td>\n",
              "    </tr>\n",
              "    <tr>\n",
              "      <th>min</th>\n",
              "      <td>18.000000</td>\n",
              "      <td>5.000000</td>\n",
              "      <td>1.000000</td>\n",
              "      <td>3.000000</td>\n",
              "      <td>1.000000</td>\n",
              "      <td>0.000000</td>\n",
              "      <td>1000.000000</td>\n",
              "    </tr>\n",
              "    <tr>\n",
              "      <th>25%</th>\n",
              "      <td>31.000000</td>\n",
              "      <td>9.000000</td>\n",
              "      <td>3.000000</td>\n",
              "      <td>3.000000</td>\n",
              "      <td>2.000000</td>\n",
              "      <td>1.000000</td>\n",
              "      <td>20346.000000</td>\n",
              "    </tr>\n",
              "    <tr>\n",
              "      <th>50%</th>\n",
              "      <td>36.000000</td>\n",
              "      <td>13.000000</td>\n",
              "      <td>4.000000</td>\n",
              "      <td>3.000000</td>\n",
              "      <td>3.000000</td>\n",
              "      <td>1.000000</td>\n",
              "      <td>22347.000000</td>\n",
              "    </tr>\n",
              "    <tr>\n",
              "      <th>75%</th>\n",
              "      <td>44.000000</td>\n",
              "      <td>20.000000</td>\n",
              "      <td>4.000000</td>\n",
              "      <td>4.000000</td>\n",
              "      <td>4.000000</td>\n",
              "      <td>2.000000</td>\n",
              "      <td>25571.000000</td>\n",
              "    </tr>\n",
              "    <tr>\n",
              "      <th>max</th>\n",
              "      <td>61.000000</td>\n",
              "      <td>127.000000</td>\n",
              "      <td>6.000000</td>\n",
              "      <td>5.000000</td>\n",
              "      <td>22.000000</td>\n",
              "      <td>3.000000</td>\n",
              "      <td>98678.000000</td>\n",
              "    </tr>\n",
              "  </tbody>\n",
              "</table>\n",
              "</div>"
            ],
            "text/plain": [
              "               Age  DurationOfPitch  NumberOfFollowups  PreferredPropertyStar  \\\n",
              "count  4662.000000      4637.000000        4843.000000            4862.000000   \n",
              "mean     37.622265        15.490835           3.708445               3.581037   \n",
              "std       9.316387         8.519643           1.002509               0.798009   \n",
              "min      18.000000         5.000000           1.000000               3.000000   \n",
              "25%      31.000000         9.000000           3.000000               3.000000   \n",
              "50%      36.000000        13.000000           4.000000               3.000000   \n",
              "75%      44.000000        20.000000           4.000000               4.000000   \n",
              "max      61.000000       127.000000           6.000000               5.000000   \n",
              "\n",
              "       NumberOfTrips  NumberOfChildrenVisiting  MonthlyIncome  \n",
              "count    4748.000000               4822.000000    4655.000000  \n",
              "mean        3.236521                  1.187267   23619.853491  \n",
              "std         1.849019                  0.857861    5380.698361  \n",
              "min         1.000000                  0.000000    1000.000000  \n",
              "25%         2.000000                  1.000000   20346.000000  \n",
              "50%         3.000000                  1.000000   22347.000000  \n",
              "75%         4.000000                  2.000000   25571.000000  \n",
              "max        22.000000                  3.000000   98678.000000  "
            ]
          },
          "execution_count": 32,
          "metadata": {},
          "output_type": "execute_result"
        }
      ],
      "source": [
        "df[features_null].select_dtypes(exclude='object').describe()"
      ]
    },
    {
      "cell_type": "markdown",
      "metadata": {
        "id": "-xI_FcHvWOEe"
      },
      "source": [
        "### Imputing Null Values"
      ]
    },
    {
      "cell_type": "code",
      "execution_count": 33,
      "metadata": {
        "id": "YEr6BNhT9MWh"
      },
      "outputs": [],
      "source": [
        "# Age\n",
        "df['Age']=df['Age'].fillna(df['Age'].median())\n",
        "\n",
        "# DurationOfPitch\n",
        "df['DurationOfPitch']=df['DurationOfPitch'].fillna(df['DurationOfPitch'].median())\n",
        "\n",
        "# NumberOfFollowups\n",
        "df['NumberOfFollowups']=df['NumberOfFollowups'].fillna(df['NumberOfFollowups'].mode()[0])\n",
        "\n",
        "# PreferredPropertyStar\n",
        "df['PreferredPropertyStar']=df['PreferredPropertyStar'].fillna(df['PreferredPropertyStar'].mode()[0])\n",
        "\n",
        "# NumberOfTrips\n",
        "df['NumberOfTrips']=df['NumberOfTrips'].fillna(df['NumberOfTrips'].median())\n",
        "\n",
        "# NumberOfChildrenVisiting\n",
        "df['NumberOfChildrenVisiting']=df['NumberOfChildrenVisiting'].fillna(df['NumberOfChildrenVisiting'].mode()[0])\n",
        "\n",
        "# MonthlyIncome\n",
        "df['MonthlyIncome']=df['MonthlyIncome'].fillna(df['MonthlyIncome'].median())\n",
        "\n",
        "# TypeofContact\n",
        "df['TypeofContact']=df['TypeofContact'].fillna(df['TypeofContact'].mode()[0])"
      ]
    },
    {
      "cell_type": "code",
      "execution_count": 34,
      "metadata": {
        "colab": {
          "base_uri": "https://localhost:8080/",
          "height": 711
        },
        "id": "u69EDigrAAq_",
        "outputId": "73b19a7f-94ea-42ec-e940-dc4097436382"
      },
      "outputs": [
        {
          "data": {
            "text/plain": [
              "CustomerID                  0\n",
              "ProdTaken                   0\n",
              "Age                         0\n",
              "TypeofContact               0\n",
              "CityTier                    0\n",
              "DurationOfPitch             0\n",
              "Occupation                  0\n",
              "Gender                      0\n",
              "NumberOfPersonVisiting      0\n",
              "NumberOfFollowups           0\n",
              "ProductPitched              0\n",
              "PreferredPropertyStar       0\n",
              "MaritalStatus               0\n",
              "NumberOfTrips               0\n",
              "Passport                    0\n",
              "PitchSatisfactionScore      0\n",
              "OwnCar                      0\n",
              "NumberOfChildrenVisiting    0\n",
              "Designation                 0\n",
              "MonthlyIncome               0\n",
              "dtype: int64"
            ]
          },
          "execution_count": 34,
          "metadata": {},
          "output_type": "execute_result"
        }
      ],
      "source": [
        "df.isnull().sum()"
      ]
    },
    {
      "cell_type": "code",
      "execution_count": 35,
      "metadata": {
        "id": "56eSxI8TBg3o"
      },
      "outputs": [],
      "source": [
        "df['TotalVisits']=df['NumberOfChildrenVisiting']+df['NumberOfPersonVisiting']"
      ]
    },
    {
      "cell_type": "code",
      "execution_count": 36,
      "metadata": {
        "colab": {
          "base_uri": "https://localhost:8080/",
          "height": 308
        },
        "id": "ptLhhUjf4CFI",
        "outputId": "7729d7e7-b7ff-4bd8-f9c5-3b97421c36fc"
      },
      "outputs": [
        {
          "data": {
            "text/html": [
              "<div>\n",
              "<style scoped>\n",
              "    .dataframe tbody tr th:only-of-type {\n",
              "        vertical-align: middle;\n",
              "    }\n",
              "\n",
              "    .dataframe tbody tr th {\n",
              "        vertical-align: top;\n",
              "    }\n",
              "\n",
              "    .dataframe thead th {\n",
              "        text-align: right;\n",
              "    }\n",
              "</style>\n",
              "<table border=\"1\" class=\"dataframe\">\n",
              "  <thead>\n",
              "    <tr style=\"text-align: right;\">\n",
              "      <th></th>\n",
              "      <th>CustomerID</th>\n",
              "      <th>ProdTaken</th>\n",
              "      <th>Age</th>\n",
              "      <th>TypeofContact</th>\n",
              "      <th>CityTier</th>\n",
              "      <th>DurationOfPitch</th>\n",
              "      <th>Occupation</th>\n",
              "      <th>Gender</th>\n",
              "      <th>NumberOfPersonVisiting</th>\n",
              "      <th>NumberOfFollowups</th>\n",
              "      <th>...</th>\n",
              "      <th>PreferredPropertyStar</th>\n",
              "      <th>MaritalStatus</th>\n",
              "      <th>NumberOfTrips</th>\n",
              "      <th>Passport</th>\n",
              "      <th>PitchSatisfactionScore</th>\n",
              "      <th>OwnCar</th>\n",
              "      <th>NumberOfChildrenVisiting</th>\n",
              "      <th>Designation</th>\n",
              "      <th>MonthlyIncome</th>\n",
              "      <th>TotalVisits</th>\n",
              "    </tr>\n",
              "  </thead>\n",
              "  <tbody>\n",
              "    <tr>\n",
              "      <th>0</th>\n",
              "      <td>200000</td>\n",
              "      <td>1</td>\n",
              "      <td>41.0</td>\n",
              "      <td>Self Enquiry</td>\n",
              "      <td>3</td>\n",
              "      <td>6.0</td>\n",
              "      <td>Salaried</td>\n",
              "      <td>Female</td>\n",
              "      <td>3</td>\n",
              "      <td>3.0</td>\n",
              "      <td>...</td>\n",
              "      <td>3.0</td>\n",
              "      <td>Unmarried</td>\n",
              "      <td>1.0</td>\n",
              "      <td>1</td>\n",
              "      <td>2</td>\n",
              "      <td>1</td>\n",
              "      <td>0.0</td>\n",
              "      <td>Manager</td>\n",
              "      <td>20993.0</td>\n",
              "      <td>3.0</td>\n",
              "    </tr>\n",
              "    <tr>\n",
              "      <th>1</th>\n",
              "      <td>200001</td>\n",
              "      <td>0</td>\n",
              "      <td>49.0</td>\n",
              "      <td>Company Invited</td>\n",
              "      <td>1</td>\n",
              "      <td>14.0</td>\n",
              "      <td>Salaried</td>\n",
              "      <td>Male</td>\n",
              "      <td>3</td>\n",
              "      <td>4.0</td>\n",
              "      <td>...</td>\n",
              "      <td>4.0</td>\n",
              "      <td>Divorced</td>\n",
              "      <td>2.0</td>\n",
              "      <td>0</td>\n",
              "      <td>3</td>\n",
              "      <td>1</td>\n",
              "      <td>2.0</td>\n",
              "      <td>Manager</td>\n",
              "      <td>20130.0</td>\n",
              "      <td>5.0</td>\n",
              "    </tr>\n",
              "    <tr>\n",
              "      <th>2</th>\n",
              "      <td>200002</td>\n",
              "      <td>1</td>\n",
              "      <td>37.0</td>\n",
              "      <td>Self Enquiry</td>\n",
              "      <td>1</td>\n",
              "      <td>8.0</td>\n",
              "      <td>Free Lancer</td>\n",
              "      <td>Male</td>\n",
              "      <td>3</td>\n",
              "      <td>4.0</td>\n",
              "      <td>...</td>\n",
              "      <td>3.0</td>\n",
              "      <td>Unmarried</td>\n",
              "      <td>7.0</td>\n",
              "      <td>1</td>\n",
              "      <td>3</td>\n",
              "      <td>0</td>\n",
              "      <td>0.0</td>\n",
              "      <td>Executive</td>\n",
              "      <td>17090.0</td>\n",
              "      <td>3.0</td>\n",
              "    </tr>\n",
              "    <tr>\n",
              "      <th>3</th>\n",
              "      <td>200003</td>\n",
              "      <td>0</td>\n",
              "      <td>33.0</td>\n",
              "      <td>Company Invited</td>\n",
              "      <td>1</td>\n",
              "      <td>9.0</td>\n",
              "      <td>Salaried</td>\n",
              "      <td>Female</td>\n",
              "      <td>2</td>\n",
              "      <td>3.0</td>\n",
              "      <td>...</td>\n",
              "      <td>3.0</td>\n",
              "      <td>Divorced</td>\n",
              "      <td>2.0</td>\n",
              "      <td>1</td>\n",
              "      <td>5</td>\n",
              "      <td>1</td>\n",
              "      <td>1.0</td>\n",
              "      <td>Executive</td>\n",
              "      <td>17909.0</td>\n",
              "      <td>3.0</td>\n",
              "    </tr>\n",
              "    <tr>\n",
              "      <th>4</th>\n",
              "      <td>200004</td>\n",
              "      <td>0</td>\n",
              "      <td>36.0</td>\n",
              "      <td>Self Enquiry</td>\n",
              "      <td>1</td>\n",
              "      <td>8.0</td>\n",
              "      <td>Small Business</td>\n",
              "      <td>Male</td>\n",
              "      <td>2</td>\n",
              "      <td>3.0</td>\n",
              "      <td>...</td>\n",
              "      <td>4.0</td>\n",
              "      <td>Divorced</td>\n",
              "      <td>1.0</td>\n",
              "      <td>0</td>\n",
              "      <td>5</td>\n",
              "      <td>1</td>\n",
              "      <td>0.0</td>\n",
              "      <td>Executive</td>\n",
              "      <td>18468.0</td>\n",
              "      <td>2.0</td>\n",
              "    </tr>\n",
              "  </tbody>\n",
              "</table>\n",
              "<p>5 rows × 21 columns</p>\n",
              "</div>"
            ],
            "text/plain": [
              "   CustomerID  ProdTaken   Age    TypeofContact  CityTier  DurationOfPitch  \\\n",
              "0      200000          1  41.0     Self Enquiry         3              6.0   \n",
              "1      200001          0  49.0  Company Invited         1             14.0   \n",
              "2      200002          1  37.0     Self Enquiry         1              8.0   \n",
              "3      200003          0  33.0  Company Invited         1              9.0   \n",
              "4      200004          0  36.0     Self Enquiry         1              8.0   \n",
              "\n",
              "       Occupation  Gender  NumberOfPersonVisiting  NumberOfFollowups  ...  \\\n",
              "0        Salaried  Female                       3                3.0  ...   \n",
              "1        Salaried    Male                       3                4.0  ...   \n",
              "2     Free Lancer    Male                       3                4.0  ...   \n",
              "3        Salaried  Female                       2                3.0  ...   \n",
              "4  Small Business    Male                       2                3.0  ...   \n",
              "\n",
              "  PreferredPropertyStar  MaritalStatus NumberOfTrips  Passport  \\\n",
              "0                   3.0      Unmarried           1.0         1   \n",
              "1                   4.0       Divorced           2.0         0   \n",
              "2                   3.0      Unmarried           7.0         1   \n",
              "3                   3.0       Divorced           2.0         1   \n",
              "4                   4.0       Divorced           1.0         0   \n",
              "\n",
              "   PitchSatisfactionScore  OwnCar  NumberOfChildrenVisiting  Designation  \\\n",
              "0                       2       1                       0.0      Manager   \n",
              "1                       3       1                       2.0      Manager   \n",
              "2                       3       0                       0.0    Executive   \n",
              "3                       5       1                       1.0    Executive   \n",
              "4                       5       1                       0.0    Executive   \n",
              "\n",
              "  MonthlyIncome  TotalVisits  \n",
              "0       20993.0          3.0  \n",
              "1       20130.0          5.0  \n",
              "2       17090.0          3.0  \n",
              "3       17909.0          3.0  \n",
              "4       18468.0          2.0  \n",
              "\n",
              "[5 rows x 21 columns]"
            ]
          },
          "execution_count": 36,
          "metadata": {},
          "output_type": "execute_result"
        }
      ],
      "source": [
        "df.head()"
      ]
    },
    {
      "cell_type": "code",
      "execution_count": 37,
      "metadata": {
        "id": "3yS5DT7r4Gbh"
      },
      "outputs": [],
      "source": [
        "df.drop(['NumberOfPersonVisiting','NumberOfChildrenVisiting','CustomerID'],axis=1,inplace=True)"
      ]
    },
    {
      "cell_type": "code",
      "execution_count": 38,
      "metadata": {
        "colab": {
          "base_uri": "https://localhost:8080/",
          "height": 278
        },
        "id": "7aW6tGJJ4aQH",
        "outputId": "2acbc25c-82dd-41e8-cb90-391c0ab05454"
      },
      "outputs": [
        {
          "data": {
            "text/html": [
              "<div>\n",
              "<style scoped>\n",
              "    .dataframe tbody tr th:only-of-type {\n",
              "        vertical-align: middle;\n",
              "    }\n",
              "\n",
              "    .dataframe tbody tr th {\n",
              "        vertical-align: top;\n",
              "    }\n",
              "\n",
              "    .dataframe thead th {\n",
              "        text-align: right;\n",
              "    }\n",
              "</style>\n",
              "<table border=\"1\" class=\"dataframe\">\n",
              "  <thead>\n",
              "    <tr style=\"text-align: right;\">\n",
              "      <th></th>\n",
              "      <th>ProdTaken</th>\n",
              "      <th>Age</th>\n",
              "      <th>TypeofContact</th>\n",
              "      <th>CityTier</th>\n",
              "      <th>DurationOfPitch</th>\n",
              "      <th>Occupation</th>\n",
              "      <th>Gender</th>\n",
              "      <th>NumberOfFollowups</th>\n",
              "      <th>ProductPitched</th>\n",
              "      <th>PreferredPropertyStar</th>\n",
              "      <th>MaritalStatus</th>\n",
              "      <th>NumberOfTrips</th>\n",
              "      <th>Passport</th>\n",
              "      <th>PitchSatisfactionScore</th>\n",
              "      <th>OwnCar</th>\n",
              "      <th>Designation</th>\n",
              "      <th>MonthlyIncome</th>\n",
              "      <th>TotalVisits</th>\n",
              "    </tr>\n",
              "  </thead>\n",
              "  <tbody>\n",
              "    <tr>\n",
              "      <th>0</th>\n",
              "      <td>1</td>\n",
              "      <td>41.0</td>\n",
              "      <td>Self Enquiry</td>\n",
              "      <td>3</td>\n",
              "      <td>6.0</td>\n",
              "      <td>Salaried</td>\n",
              "      <td>Female</td>\n",
              "      <td>3.0</td>\n",
              "      <td>Deluxe</td>\n",
              "      <td>3.0</td>\n",
              "      <td>Unmarried</td>\n",
              "      <td>1.0</td>\n",
              "      <td>1</td>\n",
              "      <td>2</td>\n",
              "      <td>1</td>\n",
              "      <td>Manager</td>\n",
              "      <td>20993.0</td>\n",
              "      <td>3.0</td>\n",
              "    </tr>\n",
              "    <tr>\n",
              "      <th>1</th>\n",
              "      <td>0</td>\n",
              "      <td>49.0</td>\n",
              "      <td>Company Invited</td>\n",
              "      <td>1</td>\n",
              "      <td>14.0</td>\n",
              "      <td>Salaried</td>\n",
              "      <td>Male</td>\n",
              "      <td>4.0</td>\n",
              "      <td>Deluxe</td>\n",
              "      <td>4.0</td>\n",
              "      <td>Divorced</td>\n",
              "      <td>2.0</td>\n",
              "      <td>0</td>\n",
              "      <td>3</td>\n",
              "      <td>1</td>\n",
              "      <td>Manager</td>\n",
              "      <td>20130.0</td>\n",
              "      <td>5.0</td>\n",
              "    </tr>\n",
              "    <tr>\n",
              "      <th>2</th>\n",
              "      <td>1</td>\n",
              "      <td>37.0</td>\n",
              "      <td>Self Enquiry</td>\n",
              "      <td>1</td>\n",
              "      <td>8.0</td>\n",
              "      <td>Free Lancer</td>\n",
              "      <td>Male</td>\n",
              "      <td>4.0</td>\n",
              "      <td>Basic</td>\n",
              "      <td>3.0</td>\n",
              "      <td>Unmarried</td>\n",
              "      <td>7.0</td>\n",
              "      <td>1</td>\n",
              "      <td>3</td>\n",
              "      <td>0</td>\n",
              "      <td>Executive</td>\n",
              "      <td>17090.0</td>\n",
              "      <td>3.0</td>\n",
              "    </tr>\n",
              "    <tr>\n",
              "      <th>3</th>\n",
              "      <td>0</td>\n",
              "      <td>33.0</td>\n",
              "      <td>Company Invited</td>\n",
              "      <td>1</td>\n",
              "      <td>9.0</td>\n",
              "      <td>Salaried</td>\n",
              "      <td>Female</td>\n",
              "      <td>3.0</td>\n",
              "      <td>Basic</td>\n",
              "      <td>3.0</td>\n",
              "      <td>Divorced</td>\n",
              "      <td>2.0</td>\n",
              "      <td>1</td>\n",
              "      <td>5</td>\n",
              "      <td>1</td>\n",
              "      <td>Executive</td>\n",
              "      <td>17909.0</td>\n",
              "      <td>3.0</td>\n",
              "    </tr>\n",
              "    <tr>\n",
              "      <th>4</th>\n",
              "      <td>0</td>\n",
              "      <td>36.0</td>\n",
              "      <td>Self Enquiry</td>\n",
              "      <td>1</td>\n",
              "      <td>8.0</td>\n",
              "      <td>Small Business</td>\n",
              "      <td>Male</td>\n",
              "      <td>3.0</td>\n",
              "      <td>Basic</td>\n",
              "      <td>4.0</td>\n",
              "      <td>Divorced</td>\n",
              "      <td>1.0</td>\n",
              "      <td>0</td>\n",
              "      <td>5</td>\n",
              "      <td>1</td>\n",
              "      <td>Executive</td>\n",
              "      <td>18468.0</td>\n",
              "      <td>2.0</td>\n",
              "    </tr>\n",
              "  </tbody>\n",
              "</table>\n",
              "</div>"
            ],
            "text/plain": [
              "   ProdTaken   Age    TypeofContact  CityTier  DurationOfPitch  \\\n",
              "0          1  41.0     Self Enquiry         3              6.0   \n",
              "1          0  49.0  Company Invited         1             14.0   \n",
              "2          1  37.0     Self Enquiry         1              8.0   \n",
              "3          0  33.0  Company Invited         1              9.0   \n",
              "4          0  36.0     Self Enquiry         1              8.0   \n",
              "\n",
              "       Occupation  Gender  NumberOfFollowups ProductPitched  \\\n",
              "0        Salaried  Female                3.0         Deluxe   \n",
              "1        Salaried    Male                4.0         Deluxe   \n",
              "2     Free Lancer    Male                4.0          Basic   \n",
              "3        Salaried  Female                3.0          Basic   \n",
              "4  Small Business    Male                3.0          Basic   \n",
              "\n",
              "   PreferredPropertyStar MaritalStatus  NumberOfTrips  Passport  \\\n",
              "0                    3.0     Unmarried            1.0         1   \n",
              "1                    4.0      Divorced            2.0         0   \n",
              "2                    3.0     Unmarried            7.0         1   \n",
              "3                    3.0      Divorced            2.0         1   \n",
              "4                    4.0      Divorced            1.0         0   \n",
              "\n",
              "   PitchSatisfactionScore  OwnCar Designation  MonthlyIncome  TotalVisits  \n",
              "0                       2       1     Manager        20993.0          3.0  \n",
              "1                       3       1     Manager        20130.0          5.0  \n",
              "2                       3       0   Executive        17090.0          3.0  \n",
              "3                       5       1   Executive        17909.0          3.0  \n",
              "4                       5       1   Executive        18468.0          2.0  "
            ]
          },
          "execution_count": 38,
          "metadata": {},
          "output_type": "execute_result"
        }
      ],
      "source": [
        "df.head()"
      ]
    },
    {
      "cell_type": "code",
      "execution_count": 39,
      "metadata": {
        "colab": {
          "base_uri": "https://localhost:8080/",
          "height": 178
        },
        "id": "UXuRW8c251No",
        "outputId": "f22b4258-0105-4ae9-a9a9-fbf1a79f6be8"
      },
      "outputs": [
        {
          "data": {
            "text/plain": [
              "ProdTaken\n",
              "0    3968\n",
              "1     920\n",
              "Name: count, dtype: int64"
            ]
          },
          "execution_count": 39,
          "metadata": {},
          "output_type": "execute_result"
        }
      ],
      "source": [
        "df['ProdTaken'].value_counts()"
      ]
    },
    {
      "cell_type": "code",
      "execution_count": 40,
      "metadata": {
        "colab": {
          "base_uri": "https://localhost:8080/",
          "height": 406
        },
        "id": "N4KfbvXzoY1z",
        "outputId": "0b0500bb-e6e7-484d-d3a4-19d105534799"
      },
      "outputs": [
        {
          "data": {
            "image/png": "[encoded data removed]",
            "text/plain": [
              "<Figure size 640x480 with 1 Axes>"
            ]
          },
          "metadata": {},
          "output_type": "display_data"
        }
      ],
      "source": [
        "percentage = df['ProdTaken'].value_counts(normalize=True)*100\n",
        "plt.pie(percentage,labels=['Not Purchased','Purchased'],autopct='%1.1f%%',colors=['#9929EA','#C562AF'])\n",
        "plt.savefig('Pie.png',dpi=600)\n",
        "plt.show()"
      ]
    },
    {
      "cell_type": "markdown",
      "metadata": {
        "id": "baKV65kiWfMX"
      },
      "source": [
        "### Train Test Split and Feature Engineering"
      ]
    },
    {
      "cell_type": "code",
      "execution_count": 41,
      "metadata": {
        "id": "iWLyEy8n4eam"
      },
      "outputs": [],
      "source": [
        "from sklearn.model_selection import train_test_split\n",
        "\n",
        "X=df.drop(['ProdTaken'],axis=1)\n",
        "y=df['ProdTaken']\n",
        "\n",
        "X_train,X_test,y_train,y_test = train_test_split(X,y,test_size=0.2, random_state=42)"
      ]
    },
    {
      "cell_type": "code",
      "execution_count": 42,
      "metadata": {
        "colab": {
          "base_uri": "https://localhost:8080/"
        },
        "id": "hJYBWlCc5lef",
        "outputId": "eb5da8f5-9cdc-4a71-a043-9bfa63cdf69a"
      },
      "outputs": [
        {
          "data": {
            "text/plain": [
              "((3910, 17), (978, 17))"
            ]
          },
          "execution_count": 42,
          "metadata": {},
          "output_type": "execute_result"
        }
      ],
      "source": [
        "X_train.shape,X_test.shape"
      ]
    },
    {
      "cell_type": "code",
      "execution_count": 43,
      "metadata": {
        "id": "jVF_6cgE5oe_"
      },
      "outputs": [],
      "source": [
        "cat_col = X.select_dtypes(include='object').columns\n",
        "num_col = X.select_dtypes(exclude='object').columns\n",
        "\n",
        "from sklearn.preprocessing import StandardScaler,OneHotEncoder\n",
        "from sklearn.compose import ColumnTransformer\n",
        "\n",
        "preprocessor = ColumnTransformer([\n",
        "    ('OHE',OneHotEncoder(drop='first'),cat_col),\n",
        "    ('SS',StandardScaler(),num_col)\n",
        "])"
      ]
    },
    {
      "cell_type": "code",
      "execution_count": 44,
      "metadata": {
        "colab": {
          "base_uri": "https://localhost:8080/",
          "height": 150
        },
        "id": "ni12JRyc8BBE",
        "outputId": "a790e2a3-4204-40e8-f0a3-8946c54e3444"
      },
      "outputs": [
        {
          "data": {
            "text/html": [
              "<style>#sk-container-id-1 {\n",
              "  /* Definition of color scheme common for light and dark mode */\n",
              "  --sklearn-color-text: #000;\n",
              "  --sklearn-color-text-muted: #666;\n",
              "  --sklearn-color-line: gray;\n",
              "  /* Definition of color scheme for unfitted estimators */\n",
              "  --sklearn-color-unfitted-level-0: #fff5e6;\n",
              "  --sklearn-color-unfitted-level-1: #f6e4d2;\n",
              "  --sklearn-color-unfitted-level-2: #ffe0b3;\n",
              "  --sklearn-color-unfitted-level-3: chocolate;\n",
              "  /* Definition of color scheme for fitted estimators */\n",
              "  --sklearn-color-fitted-level-0: #f0f8ff;\n",
              "  --sklearn-color-fitted-level-1: #d4ebff;\n",
              "  --sklearn-color-fitted-level-2: #b3dbfd;\n",
              "  --sklearn-color-fitted-level-3: cornflowerblue;\n",
              "\n",
              "  /* Specific color for light theme */\n",
              "  --sklearn-color-text-on-default-background: var(--sg-text-color, var(--theme-code-foreground, var(--jp-content-font-color1, black)));\n",
              "  --sklearn-color-background: var(--sg-background-color, var(--theme-background, var(--jp-layout-color0, white)));\n",
              "  --sklearn-color-border-box: var(--sg-text-color, var(--theme-code-foreground, var(--jp-content-font-color1, black)));\n",
              "  --sklearn-color-icon: #696969;\n",
              "\n",
              "  @media (prefers-color-scheme: dark) {\n",
              "    /* Redefinition of color scheme for dark theme */\n",
              "    --sklearn-color-text-on-default-background: var(--sg-text-color, var(--theme-code-foreground, var(--jp-content-font-color1, white)));\n",
              "    --sklearn-color-background: var(--sg-background-color, var(--theme-background, var(--jp-layout-color0, #111)));\n",
              "    --sklearn-color-border-box: var(--sg-text-color, var(--theme-code-foreground, var(--jp-content-font-color1, white)));\n",
              "    --sklearn-color-icon: #878787;\n",
              "  }\n",
              "}\n",
              "\n",
              "#sk-container-id-1 {\n",
              "  color: var(--sklearn-color-text);\n",
              "}\n",
              "\n",
              "#sk-container-id-1 pre {\n",
              "  padding: 0;\n",
              "}\n",
              "\n",
              "#sk-container-id-1 input.sk-hidden--visually {\n",
              "  border: 0;\n",
              "  clip: rect(1px 1px 1px 1px);\n",
              "  clip: rect(1px, 1px, 1px, 1px);\n",
              "  height: 1px;\n",
              "  margin: -1px;\n",
              "  overflow: hidden;\n",
              "  padding: 0;\n",
              "  position: absolute;\n",
              "  width: 1px;\n",
              "}\n",
              "\n",
              "#sk-container-id-1 div.sk-dashed-wrapped {\n",
              "  border: 1px dashed var(--sklearn-color-line);\n",
              "  margin: 0 0.4em 0.5em 0.4em;\n",
              "  box-sizing: border-box;\n",
              "  padding-bottom: 0.4em;\n",
              "  background-color: var(--sklearn-color-background);\n",
              "}\n",
              "\n",
              "#sk-container-id-1 div.sk-container {\n",
              "  /* jupyter's `normalize.less` sets `[hidden] { display: none; }`\n",
              "     but bootstrap.min.css set `[hidden] { display: none !important; }`\n",
              "     so we also need the `!important` here to be able to override the\n",
              "     default hidden behavior on the sphinx rendered scikit-learn.org.\n",
              "     See: https://github.com/scikit-learn/scikit-learn/issues/21755 */\n",
              "  display: inline-block !important;\n",
              "  position: relative;\n",
              "}\n",
              "\n",
              "#sk-container-id-1 div.sk-text-repr-fallback {\n",
              "  display: none;\n",
              "}\n",
              "\n",
              "div.sk-parallel-item,\n",
              "div.sk-serial,\n",
              "div.sk-item {\n",
              "  /* draw centered vertical line to link estimators */\n",
              "  background-image: linear-gradient(var(--sklearn-color-text-on-default-background), var(--sklearn-color-text-on-default-background));\n",
              "  background-size: 2px 100%;\n",
              "  background-repeat: no-repeat;\n",
              "  background-position: center center;\n",
              "}\n",
              "\n",
              "/* Parallel-specific style estimator block */\n",
              "\n",
              "#sk-container-id-1 div.sk-parallel-item::after {\n",
              "  content: \"\";\n",
              "  width: 100%;\n",
              "  border-bottom: 2px solid var(--sklearn-color-text-on-default-background);\n",
              "  flex-grow: 1;\n",
              "}\n",
              "\n",
              "#sk-container-id-1 div.sk-parallel {\n",
              "  display: flex;\n",
              "  align-items: stretch;\n",
              "  justify-content: center;\n",
              "  background-color: var(--sklearn-color-background);\n",
              "  position: relative;\n",
              "}\n",
              "\n",
              "#sk-container-id-1 div.sk-parallel-item {\n",
              "  display: flex;\n",
              "  flex-direction: column;\n",
              "}\n",
              "\n",
              "#sk-container-id-1 div.sk-parallel-item:first-child::after {\n",
              "  align-self: flex-end;\n",
              "  width: 50%;\n",
              "}\n",
              "\n",
              "#sk-container-id-1 div.sk-parallel-item:last-child::after {\n",
              "  align-self: flex-start;\n",
              "  width: 50%;\n",
              "}\n",
              "\n",
              "#sk-container-id-1 div.sk-parallel-item:only-child::after {\n",
              "  width: 0;\n",
              "}\n",
              "\n",
              "/* Serial-specific style estimator block */\n",
              "\n",
              "#sk-container-id-1 div.sk-serial {\n",
              "  display: flex;\n",
              "  flex-direction: column;\n",
              "  align-items: center;\n",
              "  background-color: var(--sklearn-color-background);\n",
              "  padding-right: 1em;\n",
              "  padding-left: 1em;\n",
              "}\n",
              "\n",
              "\n",
              "/* Toggleable style: style used for estimator/Pipeline/ColumnTransformer box that is\n",
              "clickable and can be expanded/collapsed.\n",
              "- Pipeline and ColumnTransformer use this feature and define the default style\n",
              "- Estimators will overwrite some part of the style using the `sk-estimator` class\n",
              "*/\n",
              "\n",
              "/* Pipeline and ColumnTransformer style (default) */\n",
              "\n",
              "#sk-container-id-1 div.sk-toggleable {\n",
              "  /* Default theme specific background. It is overwritten whether we have a\n",
              "  specific estimator or a Pipeline/ColumnTransformer */\n",
              "  background-color: var(--sklearn-color-background);\n",
              "}\n",
              "\n",
              "/* Toggleable label */\n",
              "#sk-container-id-1 label.sk-toggleable__label {\n",
              "  cursor: pointer;\n",
              "  display: flex;\n",
              "  width: 100%;\n",
              "  margin-bottom: 0;\n",
              "  padding: 0.5em;\n",
              "  box-sizing: border-box;\n",
              "  text-align: center;\n",
              "  align-items: start;\n",
              "  justify-content: space-between;\n",
              "  gap: 0.5em;\n",
              "}\n",
              "\n",
              "#sk-container-id-1 label.sk-toggleable__label .caption {\n",
              "  font-size: 0.6rem;\n",
              "  font-weight: lighter;\n",
              "  color: var(--sklearn-color-text-muted);\n",
              "}\n",
              "\n",
              "#sk-container-id-1 label.sk-toggleable__label-arrow:before {\n",
              "  /* Arrow on the left of the label */\n",
              "  content: \"▸\";\n",
              "  float: left;\n",
              "  margin-right: 0.25em;\n",
              "  color: var(--sklearn-color-icon);\n",
              "}\n",
              "\n",
              "#sk-container-id-1 label.sk-toggleable__label-arrow:hover:before {\n",
              "  color: var(--sklearn-color-text);\n",
              "}\n",
              "\n",
              "/* Toggleable content - dropdown */\n",
              "\n",
              "#sk-container-id-1 div.sk-toggleable__content {\n",
              "  display: none;\n",
              "  text-align: left;\n",
              "  /* unfitted */\n",
              "  background-color: var(--sklearn-color-unfitted-level-0);\n",
              "}\n",
              "\n",
              "#sk-container-id-1 div.sk-toggleable__content.fitted {\n",
              "  /* fitted */\n",
              "  background-color: var(--sklearn-color-fitted-level-0);\n",
              "}\n",
              "\n",
              "#sk-container-id-1 div.sk-toggleable__content pre {\n",
              "  margin: 0.2em;\n",
              "  border-radius: 0.25em;\n",
              "  color: var(--sklearn-color-text);\n",
              "  /* unfitted */\n",
              "  background-color: var(--sklearn-color-unfitted-level-0);\n",
              "}\n",
              "\n",
              "#sk-container-id-1 div.sk-toggleable__content.fitted pre {\n",
              "  /* unfitted */\n",
              "  background-color: var(--sklearn-color-fitted-level-0);\n",
              "}\n",
              "\n",
              "#sk-container-id-1 input.sk-toggleable__control:checked~div.sk-toggleable__content {\n",
              "  /* Expand drop-down */\n",
              "  display: block;\n",
              "  width: 100%;\n",
              "  overflow: visible;\n",
              "}\n",
              "\n",
              "#sk-container-id-1 input.sk-toggleable__control:checked~label.sk-toggleable__label-arrow:before {\n",
              "  content: \"▾\";\n",
              "}\n",
              "\n",
              "/* Pipeline/ColumnTransformer-specific style */\n",
              "\n",
              "#sk-container-id-1 div.sk-label input.sk-toggleable__control:checked~label.sk-toggleable__label {\n",
              "  color: var(--sklearn-color-text);\n",
              "  background-color: var(--sklearn-color-unfitted-level-2);\n",
              "}\n",
              "\n",
              "#sk-container-id-1 div.sk-label.fitted input.sk-toggleable__control:checked~label.sk-toggleable__label {\n",
              "  background-color: var(--sklearn-color-fitted-level-2);\n",
              "}\n",
              "\n",
              "/* Estimator-specific style */\n",
              "\n",
              "/* Colorize estimator box */\n",
              "#sk-container-id-1 div.sk-estimator input.sk-toggleable__control:checked~label.sk-toggleable__label {\n",
              "  /* unfitted */\n",
              "  background-color: var(--sklearn-color-unfitted-level-2);\n",
              "}\n",
              "\n",
              "#sk-container-id-1 div.sk-estimator.fitted input.sk-toggleable__control:checked~label.sk-toggleable__label {\n",
              "  /* fitted */\n",
              "  background-color: var(--sklearn-color-fitted-level-2);\n",
              "}\n",
              "\n",
              "#sk-container-id-1 div.sk-label label.sk-toggleable__label,\n",
              "#sk-container-id-1 div.sk-label label {\n",
              "  /* The background is the default theme color */\n",
              "  color: var(--sklearn-color-text-on-default-background);\n",
              "}\n",
              "\n",
              "/* On hover, darken the color of the background */\n",
              "#sk-container-id-1 div.sk-label:hover label.sk-toggleable__label {\n",
              "  color: var(--sklearn-color-text);\n",
              "  background-color: var(--sklearn-color-unfitted-level-2);\n",
              "}\n",
              "\n",
              "/* Label box, darken color on hover, fitted */\n",
              "#sk-container-id-1 div.sk-label.fitted:hover label.sk-toggleable__label.fitted {\n",
              "  color: var(--sklearn-color-text);\n",
              "  background-color: var(--sklearn-color-fitted-level-2);\n",
              "}\n",
              "\n",
              "/* Estimator label */\n",
              "\n",
              "#sk-container-id-1 div.sk-label label {\n",
              "  font-family: monospace;\n",
              "  font-weight: bold;\n",
              "  display: inline-block;\n",
              "  line-height: 1.2em;\n",
              "}\n",
              "\n",
              "#sk-container-id-1 div.sk-label-container {\n",
              "  text-align: center;\n",
              "}\n",
              "\n",
              "/* Estimator-specific */\n",
              "#sk-container-id-1 div.sk-estimator {\n",
              "  font-family: monospace;\n",
              "  border: 1px dotted var(--sklearn-color-border-box);\n",
              "  border-radius: 0.25em;\n",
              "  box-sizing: border-box;\n",
              "  margin-bottom: 0.5em;\n",
              "  /* unfitted */\n",
              "  background-color: var(--sklearn-color-unfitted-level-0);\n",
              "}\n",
              "\n",
              "#sk-container-id-1 div.sk-estimator.fitted {\n",
              "  /* fitted */\n",
              "  background-color: var(--sklearn-color-fitted-level-0);\n",
              "}\n",
              "\n",
              "/* on hover */\n",
              "#sk-container-id-1 div.sk-estimator:hover {\n",
              "  /* unfitted */\n",
              "  background-color: var(--sklearn-color-unfitted-level-2);\n",
              "}\n",
              "\n",
              "#sk-container-id-1 div.sk-estimator.fitted:hover {\n",
              "  /* fitted */\n",
              "  background-color: var(--sklearn-color-fitted-level-2);\n",
              "}\n",
              "\n",
              "/* Specification for estimator info (e.g. \"i\" and \"?\") */\n",
              "\n",
              "/* Common style for \"i\" and \"?\" */\n",
              "\n",
              ".sk-estimator-doc-link,\n",
              "a:link.sk-estimator-doc-link,\n",
              "a:visited.sk-estimator-doc-link {\n",
              "  float: right;\n",
              "  font-size: smaller;\n",
              "  line-height: 1em;\n",
              "  font-family: monospace;\n",
              "  background-color: var(--sklearn-color-background);\n",
              "  border-radius: 1em;\n",
              "  height: 1em;\n",
              "  width: 1em;\n",
              "  text-decoration: none !important;\n",
              "  margin-left: 0.5em;\n",
              "  text-align: center;\n",
              "  /* unfitted */\n",
              "  border: var(--sklearn-color-unfitted-level-1) 1pt solid;\n",
              "  color: var(--sklearn-color-unfitted-level-1);\n",
              "}\n",
              "\n",
              ".sk-estimator-doc-link.fitted,\n",
              "a:link.sk-estimator-doc-link.fitted,\n",
              "a:visited.sk-estimator-doc-link.fitted {\n",
              "  /* fitted */\n",
              "  border: var(--sklearn-color-fitted-level-1) 1pt solid;\n",
              "  color: var(--sklearn-color-fitted-level-1);\n",
              "}\n",
              "\n",
              "/* On hover */\n",
              "div.sk-estimator:hover .sk-estimator-doc-link:hover,\n",
              ".sk-estimator-doc-link:hover,\n",
              "div.sk-label-container:hover .sk-estimator-doc-link:hover,\n",
              ".sk-estimator-doc-link:hover {\n",
              "  /* unfitted */\n",
              "  background-color: var(--sklearn-color-unfitted-level-3);\n",
              "  color: var(--sklearn-color-background);\n",
              "  text-decoration: none;\n",
              "}\n",
              "\n",
              "div.sk-estimator.fitted:hover .sk-estimator-doc-link.fitted:hover,\n",
              ".sk-estimator-doc-link.fitted:hover,\n",
              "div.sk-label-container:hover .sk-estimator-doc-link.fitted:hover,\n",
              ".sk-estimator-doc-link.fitted:hover {\n",
              "  /* fitted */\n",
              "  background-color: var(--sklearn-color-fitted-level-3);\n",
              "  color: var(--sklearn-color-background);\n",
              "  text-decoration: none;\n",
              "}\n",
              "\n",
              "/* Span, style for the box shown on hovering the info icon */\n",
              ".sk-estimator-doc-link span {\n",
              "  display: none;\n",
              "  z-index: 9999;\n",
              "  position: relative;\n",
              "  font-weight: normal;\n",
              "  right: .2ex;\n",
              "  padding: .5ex;\n",
              "  margin: .5ex;\n",
              "  width: min-content;\n",
              "  min-width: 20ex;\n",
              "  max-width: 50ex;\n",
              "  color: var(--sklearn-color-text);\n",
              "  box-shadow: 2pt 2pt 4pt #999;\n",
              "  /* unfitted */\n",
              "  background: var(--sklearn-color-unfitted-level-0);\n",
              "  border: .5pt solid var(--sklearn-color-unfitted-level-3);\n",
              "}\n",
              "\n",
              ".sk-estimator-doc-link.fitted span {\n",
              "  /* fitted */\n",
              "  background: var(--sklearn-color-fitted-level-0);\n",
              "  border: var(--sklearn-color-fitted-level-3);\n",
              "}\n",
              "\n",
              ".sk-estimator-doc-link:hover span {\n",
              "  display: block;\n",
              "}\n",
              "\n",
              "/* \"?\"-specific style due to the `<a>` HTML tag */\n",
              "\n",
              "#sk-container-id-1 a.estimator_doc_link {\n",
              "  float: right;\n",
              "  font-size: 1rem;\n",
              "  line-height: 1em;\n",
              "  font-family: monospace;\n",
              "  background-color: var(--sklearn-color-background);\n",
              "  border-radius: 1rem;\n",
              "  height: 1rem;\n",
              "  width: 1rem;\n",
              "  text-decoration: none;\n",
              "  /* unfitted */\n",
              "  color: var(--sklearn-color-unfitted-level-1);\n",
              "  border: var(--sklearn-color-unfitted-level-1) 1pt solid;\n",
              "}\n",
              "\n",
              "#sk-container-id-1 a.estimator_doc_link.fitted {\n",
              "  /* fitted */\n",
              "  border: var(--sklearn-color-fitted-level-1) 1pt solid;\n",
              "  color: var(--sklearn-color-fitted-level-1);\n",
              "}\n",
              "\n",
              "/* On hover */\n",
              "#sk-container-id-1 a.estimator_doc_link:hover {\n",
              "  /* unfitted */\n",
              "  background-color: var(--sklearn-color-unfitted-level-3);\n",
              "  color: var(--sklearn-color-background);\n",
              "  text-decoration: none;\n",
              "}\n",
              "\n",
              "#sk-container-id-1 a.estimator_doc_link.fitted:hover {\n",
              "  /* fitted */\n",
              "  background-color: var(--sklearn-color-fitted-level-3);\n",
              "}\n",
              "\n",
              ".estimator-table summary {\n",
              "    padding: .5rem;\n",
              "    font-family: monospace;\n",
              "    cursor: pointer;\n",
              "}\n",
              "\n",
              ".estimator-table details[open] {\n",
              "    padding-left: 0.1rem;\n",
              "    padding-right: 0.1rem;\n",
              "    padding-bottom: 0.3rem;\n",
              "}\n",
              "\n",
              ".estimator-table .parameters-table {\n",
              "    margin-left: auto !important;\n",
              "    margin-right: auto !important;\n",
              "}\n",
              "\n",
              ".estimator-table .parameters-table tr:nth-child(odd) {\n",
              "    background-color: #fff;\n",
              "}\n",
              "\n",
              ".estimator-table .parameters-table tr:nth-child(even) {\n",
              "    background-color: #f6f6f6;\n",
              "}\n",
              "\n",
              ".estimator-table .parameters-table tr:hover {\n",
              "    background-color: #e0e0e0;\n",
              "}\n",
              "\n",
              ".estimator-table table td {\n",
              "    border: 1px solid rgba(106, 105, 104, 0.232);\n",
              "}\n",
              "\n",
              ".user-set td {\n",
              "    color:rgb(255, 94, 0);\n",
              "    text-align: left;\n",
              "}\n",
              "\n",
              ".user-set td.value pre {\n",
              "    color:rgb(255, 94, 0) !important;\n",
              "    background-color: transparent !important;\n",
              "}\n",
              "\n",
              ".default td {\n",
              "    color: black;\n",
              "    text-align: left;\n",
              "}\n",
              "\n",
              ".user-set td i,\n",
              ".default td i {\n",
              "    color: black;\n",
              "}\n",
              "\n",
              ".copy-paste-icon {\n",
              "    background-image: url(data:image/svg+xml;base64,PHN2ZyB4bWxucz0iaHR0cDovL3d3dy53My5vcmcvMjAwMC9zdmciIHZpZXdCb3g9IjAgMCA0NDggNTEyIj48IS0tIUZvbnQgQXdlc29tZSBGcmVlIDYuNy4yIGJ5IEBmb250YXdlc29tZSAtIGh0dHBzOi8vZm9udGF3ZXNvbWUuY29tIExpY2Vuc2UgLSBodHRwczovL2ZvbnRhd2Vzb21lLmNvbS9saWNlbnNlL2ZyZWUgQ29weXJpZ2h0IDIwMjUgRm9udGljb25zLCBJbmMuLS0+PHBhdGggZD0iTTIwOCAwTDMzMi4xIDBjMTIuNyAwIDI0LjkgNS4xIDMzLjkgMTQuMWw2Ny45IDY3LjljOSA5IDE0LjEgMjEuMiAxNC4xIDMzLjlMNDQ4IDMzNmMwIDI2LjUtMjEuNSA0OC00OCA0OGwtMTkyIDBjLTI2LjUgMC00OC0yMS41LTQ4LTQ4bDAtMjg4YzAtMjYuNSAyMS41LTQ4IDQ4LTQ4ek00OCAxMjhsODAgMCAwIDY0LTY0IDAgMCAyNTYgMTkyIDAgMC0zMiA2NCAwIDAgNDhjMCAyNi41LTIxLjUgNDgtNDggNDhMNDggNTEyYy0yNi41IDAtNDgtMjEuNS00OC00OEwwIDE3NmMwLTI2LjUgMjEuNS00OCA0OC00OHoiLz48L3N2Zz4=);\n",
              "    background-repeat: no-repeat;\n",
              "    background-size: 14px 14px;\n",
              "    background-position: 0;\n",
              "    display: inline-block;\n",
              "    width: 14px;\n",
              "    height: 14px;\n",
              "    cursor: pointer;\n",
              "}\n",
              "</style><body><div id=\"sk-container-id-1\" class=\"sk-top-container\"><div class=\"sk-text-repr-fallback\"><pre>ColumnTransformer(transformers=[(&#x27;OHE&#x27;, OneHotEncoder(drop=&#x27;first&#x27;),\n",
              "                                 Index([&#x27;TypeofContact&#x27;, &#x27;Occupation&#x27;, &#x27;Gender&#x27;, &#x27;ProductPitched&#x27;,\n",
              "       &#x27;MaritalStatus&#x27;, &#x27;Designation&#x27;],\n",
              "      dtype=&#x27;object&#x27;)),\n",
              "                                (&#x27;SS&#x27;, StandardScaler(),\n",
              "                                 Index([&#x27;Age&#x27;, &#x27;CityTier&#x27;, &#x27;DurationOfPitch&#x27;, &#x27;NumberOfFollowups&#x27;,\n",
              "       &#x27;PreferredPropertyStar&#x27;, &#x27;NumberOfTrips&#x27;, &#x27;Passport&#x27;,\n",
              "       &#x27;PitchSatisfactionScore&#x27;, &#x27;OwnCar&#x27;, &#x27;MonthlyIncome&#x27;, &#x27;TotalVisits&#x27;],\n",
              "      dtype=&#x27;object&#x27;))])</pre><b>In a Jupyter environment, please rerun this cell to show the HTML representation or trust the notebook. <br />On GitHub, the HTML representation is unable to render, please try loading this page with nbviewer.org.</b></div><div class=\"sk-container\" hidden><div class=\"sk-item sk-dashed-wrapped\"><div class=\"sk-label-container\"><div class=\"sk-label  sk-toggleable\"><input class=\"sk-toggleable__control sk-hidden--visually\" id=\"sk-estimator-id-1\" type=\"checkbox\" ><label for=\"sk-estimator-id-1\" class=\"sk-toggleable__label  sk-toggleable__label-arrow\"><div><div>ColumnTransformer</div></div><div><a class=\"sk-estimator-doc-link \" rel=\"noreferrer\" target=\"_blank\" href=\"https://scikit-learn.org/1.7/modules/generated/sklearn.compose.ColumnTransformer.html\">?<span>Documentation for ColumnTransformer</span></a><span class=\"sk-estimator-doc-link \">i<span>Not fitted</span></span></div></label><div class=\"sk-toggleable__content \" data-param-prefix=\"\">\n",
              "        <div class=\"estimator-table\">\n",
              "            <details>\n",
              "                <summary>Parameters</summary>\n",
              "                <table class=\"parameters-table\">\n",
              "                  <tbody>\n",
              "                    \n",
              "        <tr class=\"user-set\">\n",
              "            <td><i class=\"copy-paste-icon\"\n",
              "                 onclick=\"copyToClipboard('transformers',\n",
              "                          this.parentElement.nextElementSibling)\"\n",
              "            ></i></td>\n",
              "            <td class=\"param\">transformers&nbsp;</td>\n",
              "            <td class=\"value\">[(&#x27;OHE&#x27;, ...), (&#x27;SS&#x27;, ...)]</td>\n",
              "        </tr>\n",
              "    \n",
              "\n",
              "        <tr class=\"default\">\n",
              "            <td><i class=\"copy-paste-icon\"\n",
              "                 onclick=\"copyToClipboard('remainder',\n",
              "                          this.parentElement.nextElementSibling)\"\n",
              "            ></i></td>\n",
              "            <td class=\"param\">remainder&nbsp;</td>\n",
              "            <td class=\"value\">&#x27;drop&#x27;</td>\n",
              "        </tr>\n",
              "    \n",
              "\n",
              "        <tr class=\"default\">\n",
              "            <td><i class=\"copy-paste-icon\"\n",
              "                 onclick=\"copyToClipboard('sparse_threshold',\n",
              "                          this.parentElement.nextElementSibling)\"\n",
              "            ></i></td>\n",
              "            <td class=\"param\">sparse_threshold&nbsp;</td>\n",
              "            <td class=\"value\">0.3</td>\n",
              "        </tr>\n",
              "    \n",
              "\n",
              "        <tr class=\"default\">\n",
              "            <td><i class=\"copy-paste-icon\"\n",
              "                 onclick=\"copyToClipboard('n_jobs',\n",
              "                          this.parentElement.nextElementSibling)\"\n",
              "            ></i></td>\n",
              "            <td class=\"param\">n_jobs&nbsp;</td>\n",
              "            <td class=\"value\">None</td>\n",
              "        </tr>\n",
              "    \n",
              "\n",
              "        <tr class=\"default\">\n",
              "            <td><i class=\"copy-paste-icon\"\n",
              "                 onclick=\"copyToClipboard('transformer_weights',\n",
              "                          this.parentElement.nextElementSibling)\"\n",
              "            ></i></td>\n",
              "            <td class=\"param\">transformer_weights&nbsp;</td>\n",
              "            <td class=\"value\">None</td>\n",
              "        </tr>\n",
              "    \n",
              "\n",
              "        <tr class=\"default\">\n",
              "            <td><i class=\"copy-paste-icon\"\n",
              "                 onclick=\"copyToClipboard('verbose',\n",
              "                          this.parentElement.nextElementSibling)\"\n",
              "            ></i></td>\n",
              "            <td class=\"param\">verbose&nbsp;</td>\n",
              "            <td class=\"value\">False</td>\n",
              "        </tr>\n",
              "    \n",
              "\n",
              "        <tr class=\"default\">\n",
              "            <td><i class=\"copy-paste-icon\"\n",
              "                 onclick=\"copyToClipboard('verbose_feature_names_out',\n",
              "                          this.parentElement.nextElementSibling)\"\n",
              "            ></i></td>\n",
              "            <td class=\"param\">verbose_feature_names_out&nbsp;</td>\n",
              "            <td class=\"value\">True</td>\n",
              "        </tr>\n",
              "    \n",
              "\n",
              "        <tr class=\"default\">\n",
              "            <td><i class=\"copy-paste-icon\"\n",
              "                 onclick=\"copyToClipboard('force_int_remainder_cols',\n",
              "                          this.parentElement.nextElementSibling)\"\n",
              "            ></i></td>\n",
              "            <td class=\"param\">force_int_remainder_cols&nbsp;</td>\n",
              "            <td class=\"value\">&#x27;deprecated&#x27;</td>\n",
              "        </tr>\n",
              "    \n",
              "                  </tbody>\n",
              "                </table>\n",
              "            </details>\n",
              "        </div>\n",
              "    </div></div></div><div class=\"sk-parallel\"><div class=\"sk-parallel-item\"><div class=\"sk-item\"><div class=\"sk-label-container\"><div class=\"sk-label  sk-toggleable\"><input class=\"sk-toggleable__control sk-hidden--visually\" id=\"sk-estimator-id-2\" type=\"checkbox\" ><label for=\"sk-estimator-id-2\" class=\"sk-toggleable__label  sk-toggleable__label-arrow\"><div><div>OHE</div></div></label><div class=\"sk-toggleable__content \" data-param-prefix=\"OHE__\"><pre>Index([&#x27;TypeofContact&#x27;, &#x27;Occupation&#x27;, &#x27;Gender&#x27;, &#x27;ProductPitched&#x27;,\n",
              "       &#x27;MaritalStatus&#x27;, &#x27;Designation&#x27;],\n",
              "      dtype=&#x27;object&#x27;)</pre></div></div></div><div class=\"sk-serial\"><div class=\"sk-item\"><div class=\"sk-estimator  sk-toggleable\"><input class=\"sk-toggleable__control sk-hidden--visually\" id=\"sk-estimator-id-3\" type=\"checkbox\" ><label for=\"sk-estimator-id-3\" class=\"sk-toggleable__label  sk-toggleable__label-arrow\"><div><div>OneHotEncoder</div></div><div><a class=\"sk-estimator-doc-link \" rel=\"noreferrer\" target=\"_blank\" href=\"https://scikit-learn.org/1.7/modules/generated/sklearn.preprocessing.OneHotEncoder.html\">?<span>Documentation for OneHotEncoder</span></a></div></label><div class=\"sk-toggleable__content \" data-param-prefix=\"OHE__\">\n",
              "        <div class=\"estimator-table\">\n",
              "            <details>\n",
              "                <summary>Parameters</summary>\n",
              "                <table class=\"parameters-table\">\n",
              "                  <tbody>\n",
              "                    \n",
              "        <tr class=\"default\">\n",
              "            <td><i class=\"copy-paste-icon\"\n",
              "                 onclick=\"copyToClipboard('categories',\n",
              "                          this.parentElement.nextElementSibling)\"\n",
              "            ></i></td>\n",
              "            <td class=\"param\">categories&nbsp;</td>\n",
              "            <td class=\"value\">&#x27;auto&#x27;</td>\n",
              "        </tr>\n",
              "    \n",
              "\n",
              "        <tr class=\"user-set\">\n",
              "            <td><i class=\"copy-paste-icon\"\n",
              "                 onclick=\"copyToClipboard('drop',\n",
              "                          this.parentElement.nextElementSibling)\"\n",
              "            ></i></td>\n",
              "            <td class=\"param\">drop&nbsp;</td>\n",
              "            <td class=\"value\">&#x27;first&#x27;</td>\n",
              "        </tr>\n",
              "    \n",
              "\n",
              "        <tr class=\"default\">\n",
              "            <td><i class=\"copy-paste-icon\"\n",
              "                 onclick=\"copyToClipboard('sparse_output',\n",
              "                          this.parentElement.nextElementSibling)\"\n",
              "            ></i></td>\n",
              "            <td class=\"param\">sparse_output&nbsp;</td>\n",
              "            <td class=\"value\">True</td>\n",
              "        </tr>\n",
              "    \n",
              "\n",
              "        <tr class=\"default\">\n",
              "            <td><i class=\"copy-paste-icon\"\n",
              "                 onclick=\"copyToClipboard('dtype',\n",
              "                          this.parentElement.nextElementSibling)\"\n",
              "            ></i></td>\n",
              "            <td class=\"param\">dtype&nbsp;</td>\n",
              "            <td class=\"value\">&lt;class &#x27;numpy.float64&#x27;&gt;</td>\n",
              "        </tr>\n",
              "    \n",
              "\n",
              "        <tr class=\"default\">\n",
              "            <td><i class=\"copy-paste-icon\"\n",
              "                 onclick=\"copyToClipboard('handle_unknown',\n",
              "                          this.parentElement.nextElementSibling)\"\n",
              "            ></i></td>\n",
              "            <td class=\"param\">handle_unknown&nbsp;</td>\n",
              "            <td class=\"value\">&#x27;error&#x27;</td>\n",
              "        </tr>\n",
              "    \n",
              "\n",
              "        <tr class=\"default\">\n",
              "            <td><i class=\"copy-paste-icon\"\n",
              "                 onclick=\"copyToClipboard('min_frequency',\n",
              "                          this.parentElement.nextElementSibling)\"\n",
              "            ></i></td>\n",
              "            <td class=\"param\">min_frequency&nbsp;</td>\n",
              "            <td class=\"value\">None</td>\n",
              "        </tr>\n",
              "    \n",
              "\n",
              "        <tr class=\"default\">\n",
              "            <td><i class=\"copy-paste-icon\"\n",
              "                 onclick=\"copyToClipboard('max_categories',\n",
              "                          this.parentElement.nextElementSibling)\"\n",
              "            ></i></td>\n",
              "            <td class=\"param\">max_categories&nbsp;</td>\n",
              "            <td class=\"value\">None</td>\n",
              "        </tr>\n",
              "    \n",
              "\n",
              "        <tr class=\"default\">\n",
              "            <td><i class=\"copy-paste-icon\"\n",
              "                 onclick=\"copyToClipboard('feature_name_combiner',\n",
              "                          this.parentElement.nextElementSibling)\"\n",
              "            ></i></td>\n",
              "            <td class=\"param\">feature_name_combiner&nbsp;</td>\n",
              "            <td class=\"value\">&#x27;concat&#x27;</td>\n",
              "        </tr>\n",
              "    \n",
              "                  </tbody>\n",
              "                </table>\n",
              "            </details>\n",
              "        </div>\n",
              "    </div></div></div></div></div></div><div class=\"sk-parallel-item\"><div class=\"sk-item\"><div class=\"sk-label-container\"><div class=\"sk-label  sk-toggleable\"><input class=\"sk-toggleable__control sk-hidden--visually\" id=\"sk-estimator-id-4\" type=\"checkbox\" ><label for=\"sk-estimator-id-4\" class=\"sk-toggleable__label  sk-toggleable__label-arrow\"><div><div>SS</div></div></label><div class=\"sk-toggleable__content \" data-param-prefix=\"SS__\"><pre>Index([&#x27;Age&#x27;, &#x27;CityTier&#x27;, &#x27;DurationOfPitch&#x27;, &#x27;NumberOfFollowups&#x27;,\n",
              "       &#x27;PreferredPropertyStar&#x27;, &#x27;NumberOfTrips&#x27;, &#x27;Passport&#x27;,\n",
              "       &#x27;PitchSatisfactionScore&#x27;, &#x27;OwnCar&#x27;, &#x27;MonthlyIncome&#x27;, &#x27;TotalVisits&#x27;],\n",
              "      dtype=&#x27;object&#x27;)</pre></div></div></div><div class=\"sk-serial\"><div class=\"sk-item\"><div class=\"sk-estimator  sk-toggleable\"><input class=\"sk-toggleable__control sk-hidden--visually\" id=\"sk-estimator-id-5\" type=\"checkbox\" ><label for=\"sk-estimator-id-5\" class=\"sk-toggleable__label  sk-toggleable__label-arrow\"><div><div>StandardScaler</div></div><div><a class=\"sk-estimator-doc-link \" rel=\"noreferrer\" target=\"_blank\" href=\"https://scikit-learn.org/1.7/modules/generated/sklearn.preprocessing.StandardScaler.html\">?<span>Documentation for StandardScaler</span></a></div></label><div class=\"sk-toggleable__content \" data-param-prefix=\"SS__\">\n",
              "        <div class=\"estimator-table\">\n",
              "            <details>\n",
              "                <summary>Parameters</summary>\n",
              "                <table class=\"parameters-table\">\n",
              "                  <tbody>\n",
              "                    \n",
              "        <tr class=\"default\">\n",
              "            <td><i class=\"copy-paste-icon\"\n",
              "                 onclick=\"copyToClipboard('copy',\n",
              "                          this.parentElement.nextElementSibling)\"\n",
              "            ></i></td>\n",
              "            <td class=\"param\">copy&nbsp;</td>\n",
              "            <td class=\"value\">True</td>\n",
              "        </tr>\n",
              "    \n",
              "\n",
              "        <tr class=\"default\">\n",
              "            <td><i class=\"copy-paste-icon\"\n",
              "                 onclick=\"copyToClipboard('with_mean',\n",
              "                          this.parentElement.nextElementSibling)\"\n",
              "            ></i></td>\n",
              "            <td class=\"param\">with_mean&nbsp;</td>\n",
              "            <td class=\"value\">True</td>\n",
              "        </tr>\n",
              "    \n",
              "\n",
              "        <tr class=\"default\">\n",
              "            <td><i class=\"copy-paste-icon\"\n",
              "                 onclick=\"copyToClipboard('with_std',\n",
              "                          this.parentElement.nextElementSibling)\"\n",
              "            ></i></td>\n",
              "            <td class=\"param\">with_std&nbsp;</td>\n",
              "            <td class=\"value\">True</td>\n",
              "        </tr>\n",
              "    \n",
              "                  </tbody>\n",
              "                </table>\n",
              "            </details>\n",
              "        </div>\n",
              "    </div></div></div></div></div></div></div></div></div></div><script>function copyToClipboard(text, element) {\n",
              "    // Get the parameter prefix from the closest toggleable content\n",
              "    const toggleableContent = element.closest('.sk-toggleable__content');\n",
              "    const paramPrefix = toggleableContent ? toggleableContent.dataset.paramPrefix : '';\n",
              "    const fullParamName = paramPrefix ? `${paramPrefix}${text}` : text;\n",
              "\n",
              "    const originalStyle = element.style;\n",
              "    const computedStyle = window.getComputedStyle(element);\n",
              "    const originalWidth = computedStyle.width;\n",
              "    const originalHTML = element.innerHTML.replace('Copied!', '');\n",
              "\n",
              "    navigator.clipboard.writeText(fullParamName)\n",
              "        .then(() => {\n",
              "            element.style.width = originalWidth;\n",
              "            element.style.color = 'green';\n",
              "            element.innerHTML = \"Copied!\";\n",
              "\n",
              "            setTimeout(() => {\n",
              "                element.innerHTML = originalHTML;\n",
              "                element.style = originalStyle;\n",
              "            }, 2000);\n",
              "        })\n",
              "        .catch(err => {\n",
              "            console.error('Failed to copy:', err);\n",
              "            element.style.color = 'red';\n",
              "            element.innerHTML = \"Failed!\";\n",
              "            setTimeout(() => {\n",
              "                element.innerHTML = originalHTML;\n",
              "                element.style = originalStyle;\n",
              "            }, 2000);\n",
              "        });\n",
              "    return false;\n",
              "}\n",
              "\n",
              "document.querySelectorAll('.fa-regular.fa-copy').forEach(function(element) {\n",
              "    const toggleableContent = element.closest('.sk-toggleable__content');\n",
              "    const paramPrefix = toggleableContent ? toggleableContent.dataset.paramPrefix : '';\n",
              "    const paramName = element.parentElement.nextElementSibling.textContent.trim();\n",
              "    const fullParamName = paramPrefix ? `${paramPrefix}${paramName}` : paramName;\n",
              "\n",
              "    element.setAttribute('title', fullParamName);\n",
              "});\n",
              "</script></body>"
            ],
            "text/plain": [
              "ColumnTransformer(transformers=[('OHE', OneHotEncoder(drop='first'),\n",
              "                                 Index(['TypeofContact', 'Occupation', 'Gender', 'ProductPitched',\n",
              "       'MaritalStatus', 'Designation'],\n",
              "      dtype='object')),\n",
              "                                ('SS', StandardScaler(),\n",
              "                                 Index(['Age', 'CityTier', 'DurationOfPitch', 'NumberOfFollowups',\n",
              "       'PreferredPropertyStar', 'NumberOfTrips', 'Passport',\n",
              "       'PitchSatisfactionScore', 'OwnCar', 'MonthlyIncome', 'TotalVisits'],\n",
              "      dtype='object'))])"
            ]
          },
          "execution_count": 44,
          "metadata": {},
          "output_type": "execute_result"
        }
      ],
      "source": [
        "preprocessor"
      ]
    },
    {
      "cell_type": "code",
      "execution_count": 45,
      "metadata": {
        "id": "EexGGDDe7t7I"
      },
      "outputs": [],
      "source": [
        "X_train = preprocessor.fit_transform(X_train)"
      ]
    },
    {
      "cell_type": "code",
      "execution_count": 46,
      "metadata": {
        "colab": {
          "base_uri": "https://localhost:8080/"
        },
        "id": "uOquxJS-73ZQ",
        "outputId": "af99b9bf-6f1b-4067-ee55-f87e0862af17"
      },
      "outputs": [
        {
          "data": {
            "text/plain": [
              "(3910, 26)"
            ]
          },
          "execution_count": 46,
          "metadata": {},
          "output_type": "execute_result"
        }
      ],
      "source": [
        "X_train.shape"
      ]
    },
    {
      "cell_type": "code",
      "execution_count": 47,
      "metadata": {
        "id": "3HrGJxSO76ZI"
      },
      "outputs": [],
      "source": [
        "X_test = preprocessor.transform(X_test)"
      ]
    },
    {
      "cell_type": "code",
      "execution_count": 48,
      "metadata": {
        "colab": {
          "base_uri": "https://localhost:8080/"
        },
        "id": "SuDIhIuP8Uql",
        "outputId": "f306cf18-82a5-449e-b65b-dcf95cd8dd71"
      },
      "outputs": [
        {
          "data": {
            "text/plain": [
              "(978, 26)"
            ]
          },
          "execution_count": 48,
          "metadata": {},
          "output_type": "execute_result"
        }
      ],
      "source": [
        "X_test.shape"
      ]
    },
    {
      "cell_type": "code",
      "execution_count": 51,
      "metadata": {
        "id": "AQFS_1R88WPm"
      },
      "outputs": [],
      "source": [
        "from sklearn.linear_model import LogisticRegression\n",
        "from sklearn.svm import SVC\n",
        "from sklearn.neighbors import KNeighborsClassifier\n",
        "from sklearn.naive_bayes import GaussianNB\n",
        "from sklearn.tree import DecisionTreeClassifier\n",
        "from sklearn.ensemble import RandomForestClassifier\n",
        "from sklearn.ensemble import AdaBoostClassifier\n",
        "from sklearn.ensemble import GradientBoostingClassifier\n",
        "from xgboost import XGBClassifier\n",
        "from sklearn.metrics import accuracy_score,confusion_matrix,ConfusionMatrixDisplay,precision_score, recall_score, f1_score, roc_auc_score,roc_curve"
      ]
    },
    {
      "cell_type": "code",
      "execution_count": 52,
      "metadata": {
        "id": "PZ9OtZ5V-pYh"
      },
      "outputs": [],
      "source": [
        "models = {\n",
        "    'Logistic Regression' : LogisticRegression(),\n",
        "    'Support Vector Classifier' : SVC(),\n",
        "    'K-Neighbors Classifier' : KNeighborsClassifier(),\n",
        "    'Gaussian Naive Bayes' : GaussianNB(),\n",
        "    'Decision Tree Classifier' : DecisionTreeClassifier(),\n",
        "    'Random Forest Classifier' : RandomForestClassifier(),\n",
        "    'AdaBoost Classifier' : AdaBoostClassifier(),\n",
        "    'Gradient Boosting Classifier' : GradientBoostingClassifier(),\n",
        "    'XGB Classifier' : XGBClassifier()\n",
        "}"
      ]
    },
    {
      "cell_type": "code",
      "execution_count": 53,
      "metadata": {
        "colab": {
          "base_uri": "https://localhost:8080/"
        },
        "id": "NWNIjLv-_9Ph",
        "outputId": "2c67df68-f838-47e7-c377-948fb17d8450"
      },
      "outputs": [
        {
          "data": {
            "text/plain": [
              "{'Logistic Regression': LogisticRegression(),\n",
              " 'Support Vector Classifier': SVC(),\n",
              " 'K-Neighbors Classifier': KNeighborsClassifier(),\n",
              " 'Gaussian Naive Bayes': GaussianNB(),\n",
              " 'Decision Tree Classifier': DecisionTreeClassifier(),\n",
              " 'Random Forest Classifier': RandomForestClassifier(),\n",
              " 'AdaBoost Classifier': AdaBoostClassifier(),\n",
              " 'Gradient Boosting Classifier': GradientBoostingClassifier(),\n",
              " 'XGB Classifier': XGBClassifier(base_score=None, booster=None, callbacks=None,\n",
              "               colsample_bylevel=None, colsample_bynode=None,\n",
              "               colsample_bytree=None, device=None, early_stopping_rounds=None,\n",
              "               enable_categorical=False, eval_metric=None, feature_types=None,\n",
              "               feature_weights=None, gamma=None, grow_policy=None,\n",
              "               importance_type=None, interaction_constraints=None,\n",
              "               learning_rate=None, max_bin=None, max_cat_threshold=None,\n",
              "               max_cat_to_onehot=None, max_delta_step=None, max_depth=None,\n",
              "               max_leaves=None, min_child_weight=None, missing=nan,\n",
              "               monotone_constraints=None, multi_strategy=None, n_estimators=None,\n",
              "               n_jobs=None, num_parallel_tree=None, ...)}"
            ]
          },
          "execution_count": 53,
          "metadata": {},
          "output_type": "execute_result"
        }
      ],
      "source": [
        "models"
      ]
    },
    {
      "cell_type": "code",
      "execution_count": 54,
      "metadata": {
        "colab": {
          "base_uri": "https://localhost:8080/"
        },
        "id": "z44yIeY5_-H0",
        "outputId": "07de06a5-6c34-4995-b65b-65fc51ef1474"
      },
      "outputs": [
        {
          "name": "stdout",
          "output_type": "stream",
          "text": [
            "----- Logistic Regression -----\n",
            "Model Performance For Training Set\n",
            "- Accuracy Score : 0.8460\n",
            "- Precision Score : 0.7016\n",
            "- Recall Score : 0.3032\n",
            "- F1 Score : 0.4234\n",
            "- Roc_Auc Score : 0.6368\n",
            "****************************************\n",
            "Model Performance For Test Set\n",
            "- Accuracy Score : 0.8364\n",
            "- Precision Score : 0.6914\n",
            "- Recall Score : 0.2932\n",
            "- F1 Score : 0.4118\n",
            "- Roc_Auc Score : 0.6307\n",
            "========================================\n",
            "\n",
            "\n",
            "----- Support Vector Classifier -----\n",
            "Model Performance For Training Set\n",
            "- Accuracy Score : 0.9013\n",
            "- Precision Score : 0.9173\n",
            "- Recall Score : 0.5171\n",
            "- F1 Score : 0.6614\n",
            "- Roc_Auc Score : 0.7532\n",
            "****************************************\n",
            "Model Performance For Test Set\n",
            "- Accuracy Score : 0.8650\n",
            "- Precision Score : 0.8471\n",
            "- Recall Score : 0.3770\n",
            "- F1 Score : 0.5217\n",
            "- Roc_Auc Score : 0.6802\n",
            "========================================\n",
            "\n",
            "\n",
            "----- K-Neighbors Classifier -----\n",
            "Model Performance For Training Set\n",
            "- Accuracy Score : 0.9471\n",
            "- Precision Score : 0.9439\n",
            "- Recall Score : 0.7613\n",
            "- F1 Score : 0.8428\n",
            "- Roc_Auc Score : 0.8755\n",
            "****************************************\n",
            "Model Performance For Test Set\n",
            "- Accuracy Score : 0.8875\n",
            "- Precision Score : 0.8189\n",
            "- Recall Score : 0.5445\n",
            "- F1 Score : 0.6541\n",
            "- Roc_Auc Score : 0.7576\n",
            "========================================\n",
            "\n",
            "\n",
            "----- Gaussian Naive Bayes -----\n",
            "Model Performance For Training Set\n",
            "- Accuracy Score : 0.7066\n",
            "- Precision Score : 0.3509\n",
            "- Recall Score : 0.6749\n",
            "- F1 Score : 0.4618\n",
            "- Roc_Auc Score : 0.6944\n",
            "****************************************\n",
            "Model Performance For Test Set\n",
            "- Accuracy Score : 0.6943\n",
            "- Precision Score : 0.3516\n",
            "- Recall Score : 0.6702\n",
            "- F1 Score : 0.4613\n",
            "- Roc_Auc Score : 0.6851\n",
            "========================================\n",
            "\n",
            "\n",
            "----- Decision Tree Classifier -----\n",
            "Model Performance For Training Set\n",
            "- Accuracy Score : 1.0000\n",
            "- Precision Score : 1.0000\n",
            "- Recall Score : 1.0000\n",
            "- F1 Score : 1.0000\n",
            "- Roc_Auc Score : 1.0000\n",
            "****************************************\n",
            "Model Performance For Test Set\n",
            "- Accuracy Score : 0.9162\n",
            "- Precision Score : 0.8045\n",
            "- Recall Score : 0.7539\n",
            "- F1 Score : 0.7784\n",
            "- Roc_Auc Score : 0.8547\n",
            "========================================\n",
            "\n",
            "\n",
            "----- Random Forest Classifier -----\n",
            "Model Performance For Training Set\n",
            "- Accuracy Score : 1.0000\n",
            "- Precision Score : 1.0000\n",
            "- Recall Score : 1.0000\n",
            "- F1 Score : 1.0000\n",
            "- Roc_Auc Score : 1.0000\n",
            "****************************************\n",
            "Model Performance For Test Set\n",
            "- Accuracy Score : 0.9294\n",
            "- Precision Score : 0.9552\n",
            "- Recall Score : 0.6702\n",
            "- F1 Score : 0.7877\n",
            "- Roc_Auc Score : 0.8313\n",
            "========================================\n",
            "\n",
            "\n",
            "----- AdaBoost Classifier -----\n",
            "Model Performance For Training Set\n",
            "- Accuracy Score : 0.8478\n",
            "- Precision Score : 0.7815\n",
            "- Recall Score : 0.2551\n",
            "- F1 Score : 0.3847\n",
            "- Roc_Auc Score : 0.6194\n",
            "****************************************\n",
            "Model Performance For Test Set\n",
            "- Accuracy Score : 0.8354\n",
            "- Precision Score : 0.7500\n",
            "- Recall Score : 0.2356\n",
            "- F1 Score : 0.3586\n",
            "- Roc_Auc Score : 0.6083\n",
            "========================================\n",
            "\n",
            "\n",
            "----- Gradient Boosting Classifier -----\n",
            "Model Performance For Training Set\n",
            "- Accuracy Score : 0.8939\n",
            "- Precision Score : 0.8756\n",
            "- Recall Score : 0.5021\n",
            "- F1 Score : 0.6382\n",
            "- Roc_Auc Score : 0.7429\n",
            "****************************************\n",
            "Model Performance For Test Set\n",
            "- Accuracy Score : 0.8589\n",
            "- Precision Score : 0.7732\n",
            "- Recall Score : 0.3927\n",
            "- F1 Score : 0.5208\n",
            "- Roc_Auc Score : 0.6824\n",
            "========================================\n",
            "\n",
            "\n",
            "----- XGB Classifier -----\n",
            "Model Performance For Training Set\n",
            "- Accuracy Score : 0.9992\n",
            "- Precision Score : 1.0000\n",
            "- Recall Score : 0.9959\n",
            "- F1 Score : 0.9979\n",
            "- Roc_Auc Score : 0.9979\n",
            "****************************************\n",
            "Model Performance For Test Set\n",
            "- Accuracy Score : 0.9356\n",
            "- Precision Score : 0.9507\n",
            "- Recall Score : 0.7068\n",
            "- F1 Score : 0.8108\n",
            "- Roc_Auc Score : 0.8490\n",
            "========================================\n",
            "\n",
            "\n"
          ]
        }
      ],
      "source": [
        "for i in range(len(list(models))):\n",
        "  model = list(models.values())[i]\n",
        "  model.fit(X_train,y_train)\n",
        "\n",
        "  y_train_pred = model.predict(X_train)\n",
        "  y_test_pred = model.predict(X_test)\n",
        "\n",
        "  model_train_accuracy = accuracy_score(y_train,y_train_pred)\n",
        "  model_train_precision = precision_score(y_train,y_train_pred)\n",
        "  model_train_recall = recall_score(y_train,y_train_pred)\n",
        "  model_train_f1 = f1_score(y_train,y_train_pred)\n",
        "  model_train_roc = roc_auc_score(y_train,y_train_pred)\n",
        "\n",
        "  model_test_accuracy = accuracy_score(y_test,y_test_pred)\n",
        "  model_test_precision = precision_score(y_test,y_test_pred)\n",
        "  model_test_recall = recall_score(y_test,y_test_pred)\n",
        "  model_test_f1 = f1_score(y_test,y_test_pred)\n",
        "  model_test_roc = roc_auc_score(y_test,y_test_pred)\n",
        "\n",
        "  print('-----',list(models.keys())[i],'-----')\n",
        "\n",
        "  print('Model Performance For Training Set')\n",
        "  print('- Accuracy Score : {:.4f}'.format(model_train_accuracy))\n",
        "  print('- Precision Score : {:.4f}'.format(model_train_precision))\n",
        "  print('- Recall Score : {:.4f}'.format(model_train_recall))\n",
        "  print('- F1 Score : {:.4f}'.format(model_train_f1))\n",
        "  print('- Roc_Auc Score : {:.4f}'.format(model_train_roc))\n",
        "\n",
        "  print('*'*40)\n",
        "\n",
        "  print('Model Performance For Test Set')\n",
        "  print('- Accuracy Score : {:.4f}'.format(model_test_accuracy))\n",
        "  print('- Precision Score : {:.4f}'.format(model_test_precision))\n",
        "  print('- Recall Score : {:.4f}'.format(model_test_recall))\n",
        "  print('- F1 Score : {:.4f}'.format(model_test_f1))\n",
        "  print('- Roc_Auc Score : {:.4f}'.format(model_test_roc))\n",
        "\n",
        "  print('='*40)\n",
        "  print('\\n')"
      ]
    },
    {
      "cell_type": "code",
      "execution_count": 55,
      "metadata": {
        "id": "273099dmLPix"
      },
      "outputs": [],
      "source": [
        "log_param = {'penalty': ['l1', 'l2', 'elasticnet'],\n",
        "             'C': [0.01, 0.1, 1, 10],\n",
        "             'solver': ['liblinear', 'saga'],\n",
        "             'class_weight': ['balanced', None],\n",
        "             'max_iter': [100, 200, 300]}\n",
        "svc_param = {'C': [0.1, 1, 10, 100],\n",
        "             'gamma': [1, 0.1, 0.01, 0.001]}\n",
        "knn_param = {'n_neighbors': [3, 5, 7, 9],\n",
        "             'weights': ['uniform', 'distance'],\n",
        "             'metric': ['euclidean', 'manhattan']}\n",
        "dt_param = {'criterion':['gini','entropy', 'log_loss'],\n",
        "            'splitter':['best','random'],\n",
        "            'max_depth':[1,2,3,4,5],\n",
        "            'max_features':['auto','sqrt','log2'],\n",
        "            'class_weight':['balanced', None]}\n",
        "rf_param = {'max_depth': [5, 8, 15, None, 10],\n",
        "            'max_features': [5, 7, \"auto\", 8],\n",
        "            'min_samples_split': [2, 8, 15, 20],\n",
        "            'n_estimators': [100, 200, 500, 1000],\n",
        "            'class_weight':['balanced', None]}\n",
        "ab_param = {'n_estimators':[50,60,70,80,90]}\n",
        "gb_param = {'loss': ['log_loss','deviance','exponential'],\n",
        "            'criterion': ['friedman_mse','squared_error','mse'],\n",
        "            'min_samples_split': [2, 8, 15, 20],\n",
        "            'n_estimators': [100, 200, 500],\n",
        "            'max_depth': [5, 8, 15, None, 10]}\n",
        "xgb_param = {'learning_rate': [0.1, 0.01],\n",
        "             'max_depth': [5, 8, 12, 20, 30],\n",
        "             'n_estimators': [100, 200, 300],\n",
        "             'colsample_bytree': [0.5, 0.8, 1, 0.3, 0.4]}"
      ]
    },
    {
      "cell_type": "code",
      "execution_count": 56,
      "metadata": {
        "id": "sRHUZMVeQejv"
      },
      "outputs": [],
      "source": [
        "import warnings\n",
        "warnings.filterwarnings('ignore')"
      ]
    },
    {
      "cell_type": "code",
      "execution_count": 57,
      "metadata": {
        "id": "GcgTY1F8IAQg"
      },
      "outputs": [],
      "source": [
        "models = [\n",
        "    ('Logistic Regression',LogisticRegression(),log_param),\n",
        "    ('Support Vector Classifier',SVC(),svc_param),\n",
        "    ('K-Neighbors Classifier',KNeighborsClassifier(),knn_param),\n",
        "    ('Decision Tree Classifier',DecisionTreeClassifier(),dt_param),\n",
        "    ('Random Forest Classifier',RandomForestClassifier(),rf_param),\n",
        "    ('AdaBoost Classifier',AdaBoostClassifier(),ab_param),\n",
        "    ('Gradient Boosting Classifier',GradientBoostingClassifier(),gb_param),\n",
        "    ('XGB Classifier',XGBClassifier(),xgb_param)]"
      ]
    },
    {
      "cell_type": "code",
      "execution_count": 58,
      "metadata": {
        "id": "M4tDR_fDLwvO"
      },
      "outputs": [],
      "source": [
        "randomizedcv_models = [('Logistic Regression',LogisticRegression(),log_param)]"
      ]
    },
    {
      "cell_type": "code",
      "execution_count": 59,
      "metadata": {
        "colab": {
          "base_uri": "https://localhost:8080/"
        },
        "id": "5iCLR_jbgpRw",
        "outputId": "1622c812-6f52-4204-d35f-62187a7fa9de"
      },
      "outputs": [
        {
          "data": {
            "text/plain": [
              "[('Logistic Regression',\n",
              "  LogisticRegression(),\n",
              "  {'penalty': ['l1', 'l2', 'elasticnet'],\n",
              "   'C': [0.01, 0.1, 1, 10],\n",
              "   'solver': ['liblinear', 'saga'],\n",
              "   'class_weight': ['balanced', None],\n",
              "   'max_iter': [100, 200, 300]})]"
            ]
          },
          "execution_count": 59,
          "metadata": {},
          "output_type": "execute_result"
        }
      ],
      "source": [
        "randomizedcv_models"
      ]
    },
    {
      "cell_type": "code",
      "execution_count": 60,
      "metadata": {
        "colab": {
          "base_uri": "https://localhost:8080/"
        },
        "collapsed": true,
        "id": "bGyHNSKGL5RJ",
        "outputId": "b1869dbd-e993-4704-e894-2c7999a0c36c"
      },
      "outputs": [
        {
          "name": "stdout",
          "output_type": "stream",
          "text": [
            "Fitting 5 folds for each of 100 candidates, totalling 500 fits\n",
            "********** Best Params For {'Logistic Regression'} **********\n",
            "{'solver': 'liblinear', 'penalty': 'l1', 'max_iter': 100, 'class_weight': None, 'C': 1}\n",
            "\n",
            "\n"
          ]
        }
      ],
      "source": [
        "from sklearn.model_selection import RandomizedSearchCV\n",
        "\n",
        "model_param = {}\n",
        "for name, model, params in randomizedcv_models:\n",
        "  randomcv = RandomizedSearchCV(estimator=model,\n",
        "                                param_distributions=params,\n",
        "                                n_iter=100,\n",
        "                                cv=5,\n",
        "                                verbose=2,\n",
        "                                n_jobs=-1)\n",
        "  randomcv.fit(X_train,y_train)\n",
        "  model_param[name]= randomcv.best_params_\n",
        "\n",
        "for model_name in model_param:\n",
        "  print('*'*10, 'Best Params For',{model_name},'*'*10)\n",
        "  print(model_param[model_name])\n",
        "  print('\\n')"
      ]
    },
    {
      "cell_type": "code",
      "execution_count": 61,
      "metadata": {
        "id": "pe_yU7eGUqQX"
      },
      "outputs": [],
      "source": [
        "metrics = {\n",
        "    'Model' : [],\n",
        "    'Accuracy' : [],\n",
        "    'Precision' : [],\n",
        "    'Recall' : [],\n",
        "    'F1 Score' : [],\n",
        "    'ROC AUC' : []\n",
        "}"
      ]
    },
    {
      "cell_type": "code",
      "execution_count": 62,
      "metadata": {
        "colab": {
          "base_uri": "https://localhost:8080/"
        },
        "id": "UjC0tn04NBqt",
        "outputId": "69a045ce-cbb6-4caa-cefe-a7010c389be1"
      },
      "outputs": [
        {
          "name": "stdout",
          "output_type": "stream",
          "text": [
            "----- Logistic Regression -----\n",
            "Model Performance For Training Set\n",
            "- Accuracy Score : 0.7476\n",
            "- Precision Score : 0.4051\n",
            "- Recall Score : 0.7558\n",
            "- F1 Score : 0.5275\n",
            "- Roc_Auc Score : 0.7508\n",
            "****************************************\n",
            "Model Performance For Test Set\n",
            "- Accuracy Score : 0.7423\n",
            "- Precision Score : 0.4136\n",
            "- Recall Score : 0.7644\n",
            "- F1 Score : 0.5368\n",
            "- Roc_Auc Score : 0.7507\n",
            "========================================\n",
            "\n",
            "\n",
            "----- Support Vector Classifier -----\n",
            "Model Performance For Training Set\n",
            "- Accuracy Score : 0.9949\n",
            "- Precision Score : 0.9944\n",
            "- Recall Score : 0.9781\n",
            "- F1 Score : 0.9862\n",
            "- Roc_Auc Score : 0.9884\n",
            "****************************************\n",
            "Model Performance For Test Set\n",
            "- Accuracy Score : 0.9571\n",
            "- Precision Score : 0.9515\n",
            "- Recall Score : 0.8220\n",
            "- F1 Score : 0.8820\n",
            "- Roc_Auc Score : 0.9059\n",
            "========================================\n",
            "\n",
            "\n",
            "----- K-Neighbors Classifier -----\n",
            "Model Performance For Training Set\n",
            "- Accuracy Score : 1.0000\n",
            "- Precision Score : 1.0000\n",
            "- Recall Score : 1.0000\n",
            "- F1 Score : 1.0000\n",
            "- Roc_Auc Score : 1.0000\n",
            "****************************************\n",
            "Model Performance For Test Set\n",
            "- Accuracy Score : 0.9376\n",
            "- Precision Score : 0.9221\n",
            "- Recall Score : 0.7435\n",
            "- F1 Score : 0.8232\n",
            "- Roc_Auc Score : 0.8641\n",
            "========================================\n",
            "\n",
            "\n",
            "----- Decision Tree Classifier -----\n",
            "Model Performance For Training Set\n",
            "- Accuracy Score : 0.6675\n",
            "- Precision Score : 0.3312\n",
            "- Recall Score : 0.7682\n",
            "- F1 Score : 0.4628\n",
            "- Roc_Auc Score : 0.7063\n",
            "****************************************\n",
            "Model Performance For Test Set\n",
            "- Accuracy Score : 0.6585\n",
            "- Precision Score : 0.3326\n",
            "- Recall Score : 0.7435\n",
            "- F1 Score : 0.4595\n",
            "- Roc_Auc Score : 0.6907\n",
            "========================================\n",
            "\n",
            "\n",
            "----- Random Forest Classifier -----\n",
            "Model Performance For Training Set\n",
            "- Accuracy Score : 1.0000\n",
            "- Precision Score : 1.0000\n",
            "- Recall Score : 1.0000\n",
            "- F1 Score : 1.0000\n",
            "- Roc_Auc Score : 1.0000\n",
            "****************************************\n",
            "Model Performance For Test Set\n",
            "- Accuracy Score : 0.9294\n",
            "- Precision Score : 0.9766\n",
            "- Recall Score : 0.6545\n",
            "- F1 Score : 0.7837\n",
            "- Roc_Auc Score : 0.8253\n",
            "========================================\n",
            "\n",
            "\n",
            "----- AdaBoosting Classifier -----\n",
            "Model Performance For Training Set\n",
            "- Accuracy Score : 0.8473\n",
            "- Precision Score : 0.7750\n",
            "- Recall Score : 0.2551\n",
            "- F1 Score : 0.3839\n",
            "- Roc_Auc Score : 0.6191\n",
            "****************************************\n",
            "Model Performance For Test Set\n",
            "- Accuracy Score : 0.8364\n",
            "- Precision Score : 0.7818\n",
            "- Recall Score : 0.2251\n",
            "- F1 Score : 0.3496\n",
            "- Roc_Auc Score : 0.6049\n",
            "========================================\n",
            "\n",
            "\n",
            "----- Gradient Boosting Classifier -----\n",
            "Model Performance For Training Set\n",
            "- Accuracy Score : 1.0000\n",
            "- Precision Score : 1.0000\n",
            "- Recall Score : 1.0000\n",
            "- F1 Score : 1.0000\n",
            "- Roc_Auc Score : 1.0000\n",
            "****************************************\n",
            "Model Performance For Test Set\n",
            "- Accuracy Score : 0.9652\n",
            "- Precision Score : 0.9758\n",
            "- Recall Score : 0.8429\n",
            "- F1 Score : 0.9045\n",
            "- Roc_Auc Score : 0.9189\n",
            "========================================\n",
            "\n",
            "\n",
            "----- XGB Classifier -----\n",
            "Model Performance For Training Set\n",
            "- Accuracy Score : 1.0000\n",
            "- Precision Score : 1.0000\n",
            "- Recall Score : 1.0000\n",
            "- F1 Score : 1.0000\n",
            "- Roc_Auc Score : 1.0000\n",
            "****************************************\n",
            "Model Performance For Test Set\n",
            "- Accuracy Score : 0.9591\n",
            "- Precision Score : 0.9748\n",
            "- Recall Score : 0.8115\n",
            "- F1 Score : 0.8857\n",
            "- Roc_Auc Score : 0.9032\n",
            "========================================\n",
            "\n",
            "\n"
          ]
        }
      ],
      "source": [
        "models = {\n",
        "    'Logistic Regression' : LogisticRegression(solver = 'liblinear', penalty='l1',max_iter=300,C=1,class_weight='balanced'),\n",
        "    'Support Vector Classifier' : SVC(gamma=0.1,C=10),\n",
        "    'K-Neighbors Classifier': KNeighborsClassifier(weights='distance',n_neighbors=3,metric='manhattan'),\n",
        "    'Decision Tree Classifier' : DecisionTreeClassifier(splitter='best',max_depth=5,max_features='sqrt',criterion='gini',class_weight='balanced'),\n",
        "    'Random Forest Classifier' : RandomForestClassifier(n_estimators=1000,min_samples_split=2,max_depth=None,max_features=7,class_weight='balanced'),\n",
        "    'AdaBoosting Classifier' : AdaBoostClassifier(n_estimators=90),\n",
        "    'Gradient Boosting Classifier' : GradientBoostingClassifier(n_estimators=500,min_samples_split=15,max_depth=10,loss='log_loss',criterion='friedman_mse'),\n",
        "    'XGB Classifier' : XGBClassifier(n_estimators=300,max_depth=30,learning_rate=0.1,colsample_bytree=0.8)\n",
        "}\n",
        "\n",
        "for i in range(len(list(models))):\n",
        "  model = list(models.values())[i]\n",
        "  model.fit(X_train,y_train)\n",
        "\n",
        "  y_train_pred = model.predict(X_train)\n",
        "  y_test_pred = model.predict(X_test)\n",
        "\n",
        "  model_train_accuracy = accuracy_score(y_train,y_train_pred)\n",
        "  model_train_precision = precision_score(y_train,y_train_pred)\n",
        "  model_train_recall = recall_score(y_train,y_train_pred)\n",
        "  model_train_f1 = f1_score(y_train,y_train_pred)\n",
        "  model_train_roc = roc_auc_score(y_train,y_train_pred)\n",
        "\n",
        "  model_test_accuracy = accuracy_score(y_test,y_test_pred)\n",
        "  model_test_precision = precision_score(y_test,y_test_pred)\n",
        "  model_test_recall = recall_score(y_test,y_test_pred)\n",
        "  model_test_f1 = f1_score(y_test,y_test_pred)\n",
        "  model_test_roc = roc_auc_score(y_test,y_test_pred)\n",
        "\n",
        "  print('-----',list(models.keys())[i],'-----')\n",
        "\n",
        "  print('Model Performance For Training Set')\n",
        "  print('- Accuracy Score : {:.4f}'.format(model_train_accuracy))\n",
        "  print('- Precision Score : {:.4f}'.format(model_train_precision))\n",
        "  print('- Recall Score : {:.4f}'.format(model_train_recall))\n",
        "  print('- F1 Score : {:.4f}'.format(model_train_f1))\n",
        "  print('- Roc_Auc Score : {:.4f}'.format(model_train_roc))\n",
        "\n",
        "  print('*'*40)\n",
        "  print('Model Performance For Test Set')\n",
        "  print('- Accuracy Score : {:.4f}'.format(model_test_accuracy))\n",
        "  print('- Precision Score : {:.4f}'.format(model_test_precision))\n",
        "  print('- Recall Score : {:.4f}'.format(model_test_recall))\n",
        "  print('- F1 Score : {:.4f}'.format(model_test_f1))\n",
        "  print('- Roc_Auc Score : {:.4f}'.format(model_test_roc))\n",
        "\n",
        "  print('='*40)\n",
        "  print('\\n')\n",
        "\n",
        "  metrics['Model'].append(list(models.keys())[i])\n",
        "  metrics['Accuracy'].append(model_test_accuracy)\n",
        "  metrics['Precision'].append(model_test_precision)\n",
        "  metrics['Recall'].append(model_test_recall)\n",
        "  metrics['F1 Score'].append(model_test_f1)\n",
        "  metrics['ROC AUC'].append(model_test_roc)"
      ]
    },
    {
      "cell_type": "code",
      "execution_count": 63,
      "metadata": {
        "colab": {
          "base_uri": "https://localhost:8080/",
          "height": 300
        },
        "id": "ZM5srbz8WIv9",
        "outputId": "a48312d1-a708-4b20-dfec-80beb221ed3e"
      },
      "outputs": [
        {
          "data": {
            "text/html": [
              "<div>\n",
              "<style scoped>\n",
              "    .dataframe tbody tr th:only-of-type {\n",
              "        vertical-align: middle;\n",
              "    }\n",
              "\n",
              "    .dataframe tbody tr th {\n",
              "        vertical-align: top;\n",
              "    }\n",
              "\n",
              "    .dataframe thead th {\n",
              "        text-align: right;\n",
              "    }\n",
              "</style>\n",
              "<table border=\"1\" class=\"dataframe\">\n",
              "  <thead>\n",
              "    <tr style=\"text-align: right;\">\n",
              "      <th></th>\n",
              "      <th>Model</th>\n",
              "      <th>Accuracy</th>\n",
              "      <th>Precision</th>\n",
              "      <th>Recall</th>\n",
              "      <th>F1 Score</th>\n",
              "      <th>ROC AUC</th>\n",
              "    </tr>\n",
              "  </thead>\n",
              "  <tbody>\n",
              "    <tr>\n",
              "      <th>6</th>\n",
              "      <td>Gradient Boosting Classifier</td>\n",
              "      <td>0.965235</td>\n",
              "      <td>0.975758</td>\n",
              "      <td>0.842932</td>\n",
              "      <td>0.904494</td>\n",
              "      <td>0.918925</td>\n",
              "    </tr>\n",
              "    <tr>\n",
              "      <th>7</th>\n",
              "      <td>XGB Classifier</td>\n",
              "      <td>0.959100</td>\n",
              "      <td>0.974843</td>\n",
              "      <td>0.811518</td>\n",
              "      <td>0.885714</td>\n",
              "      <td>0.903218</td>\n",
              "    </tr>\n",
              "    <tr>\n",
              "      <th>1</th>\n",
              "      <td>Support Vector Classifier</td>\n",
              "      <td>0.957055</td>\n",
              "      <td>0.951515</td>\n",
              "      <td>0.821990</td>\n",
              "      <td>0.882022</td>\n",
              "      <td>0.905912</td>\n",
              "    </tr>\n",
              "    <tr>\n",
              "      <th>2</th>\n",
              "      <td>K-Neighbors Classifier</td>\n",
              "      <td>0.937628</td>\n",
              "      <td>0.922078</td>\n",
              "      <td>0.743455</td>\n",
              "      <td>0.823188</td>\n",
              "      <td>0.864104</td>\n",
              "    </tr>\n",
              "    <tr>\n",
              "      <th>4</th>\n",
              "      <td>Random Forest Classifier</td>\n",
              "      <td>0.929448</td>\n",
              "      <td>0.976562</td>\n",
              "      <td>0.654450</td>\n",
              "      <td>0.783699</td>\n",
              "      <td>0.825319</td>\n",
              "    </tr>\n",
              "    <tr>\n",
              "      <th>0</th>\n",
              "      <td>Logistic Regression</td>\n",
              "      <td>0.742331</td>\n",
              "      <td>0.413598</td>\n",
              "      <td>0.764398</td>\n",
              "      <td>0.536765</td>\n",
              "      <td>0.750687</td>\n",
              "    </tr>\n",
              "    <tr>\n",
              "      <th>3</th>\n",
              "      <td>Decision Tree Classifier</td>\n",
              "      <td>0.658487</td>\n",
              "      <td>0.332553</td>\n",
              "      <td>0.743455</td>\n",
              "      <td>0.459547</td>\n",
              "      <td>0.690660</td>\n",
              "    </tr>\n",
              "    <tr>\n",
              "      <th>5</th>\n",
              "      <td>AdaBoosting Classifier</td>\n",
              "      <td>0.836401</td>\n",
              "      <td>0.781818</td>\n",
              "      <td>0.225131</td>\n",
              "      <td>0.349593</td>\n",
              "      <td>0.604942</td>\n",
              "    </tr>\n",
              "  </tbody>\n",
              "</table>\n",
              "</div>"
            ],
            "text/plain": [
              "                          Model  Accuracy  Precision    Recall  F1 Score  \\\n",
              "6  Gradient Boosting Classifier  0.965235   0.975758  0.842932  0.904494   \n",
              "7                XGB Classifier  0.959100   0.974843  0.811518  0.885714   \n",
              "1     Support Vector Classifier  0.957055   0.951515  0.821990  0.882022   \n",
              "2        K-Neighbors Classifier  0.937628   0.922078  0.743455  0.823188   \n",
              "4      Random Forest Classifier  0.929448   0.976562  0.654450  0.783699   \n",
              "0           Logistic Regression  0.742331   0.413598  0.764398  0.536765   \n",
              "3      Decision Tree Classifier  0.658487   0.332553  0.743455  0.459547   \n",
              "5        AdaBoosting Classifier  0.836401   0.781818  0.225131  0.349593   \n",
              "\n",
              "    ROC AUC  \n",
              "6  0.918925  \n",
              "7  0.903218  \n",
              "1  0.905912  \n",
              "2  0.864104  \n",
              "4  0.825319  \n",
              "0  0.750687  \n",
              "3  0.690660  \n",
              "5  0.604942  "
            ]
          },
          "execution_count": 63,
          "metadata": {},
          "output_type": "execute_result"
        }
      ],
      "source": [
        "metrics_df = pd.DataFrame(metrics)\n",
        "metrics_sorted = metrics_df.sort_values(by='F1 Score',ascending=False)\n",
        "metrics_sorted"
      ]
    },
    {
      "cell_type": "code",
      "execution_count": 64,
      "metadata": {
        "colab": {
          "base_uri": "https://localhost:8080/",
          "height": 607
        },
        "id": "N8mMgqQsWYRQ",
        "outputId": "e0f82696-ee96-4e67-f3c8-fdd79129bfef"
      },
      "outputs": [
        {
          "data": {
            "image/png": "[encoded data removed]",
            "text/plain": [
              "<Figure size 1000x600 with 1 Axes>"
            ]
          },
          "metadata": {},
          "output_type": "display_data"
        }
      ],
      "source": [
        "df_melted = metrics_sorted.melt(id_vars='Model', var_name='Metric', value_name='Score')\n",
        "\n",
        "plt.figure(figsize=(10,6))\n",
        "sns.barplot(data=df_melted, x='Score', y='Model', hue='Metric', palette=['#036D19','#27FB6B','#F991CC','#247BA0','#DB2955'])\n",
        "plt.title(\"Model Comparison Across Metrics\")\n",
        "plt.xlabel(\"Scores\")\n",
        "plt.ylabel(\"Models\")\n",
        "plt.legend(loc='lower right')\n",
        "plt.tight_layout()\n",
        "plt.savefig('Model_comparison.png',dpi=600)\n",
        "plt.show()"
      ]
    },
    {
      "cell_type": "code",
      "execution_count": null,
      "metadata": {
        "colab": {
          "base_uri": "https://localhost:8080/",
          "height": 472
        },
        "id": "wwdqL9P0OrrE",
        "outputId": "01a3a489-8d37-444c-8cee-f0c7fcd06f05"
      },
      "outputs": [
        {
          "data": {
            "image/png": "[encoded data removed]",
            "text/plain": [
              "<Figure size 640x480 with 1 Axes>"
            ]
          },
          "metadata": {},
          "output_type": "display_data"
        }
      ],
      "source": [
        "from sklearn.metrics import roc_auc_score,roc_curve\n",
        "\n",
        "auc_models = [\n",
        "    ('Gradient Boosting Classifier' , GradientBoostingClassifier(n_estimators=500,min_samples_split=15,max_depth=10,loss='log_loss',criterion='friedman_mse'),0.9104)\n",
        "]\n",
        "\n",
        "for name, model, auc_score in auc_models:\n",
        "  model = model\n",
        "  model.fit(X_train,y_train)\n",
        "  y_pred = model.predict_proba(X_test)[:,1]\n",
        "  fpr, tpr, threshold = roc_curve(y_test,y_pred)\n",
        "  plt.plot(fpr,tpr,label='%s ROC (area = (%0.2f)) '% (name,auc_score))\n",
        "  plt.plot([0, 1], [0, 1],'r--')\n",
        "plt.xlim([0.0, 1.0])\n",
        "plt.ylim([0.0, 1.05])\n",
        "plt.xlabel('Specificity(False Positive Rate)')\n",
        "plt.ylabel('Sensitivity(True Positive Rate)')\n",
        "plt.title('Receiver Operating Characteristic')\n",
        "plt.legend(loc=\"lower right\")\n",
        "plt.savefig('GradientBoosting_roc_curve.png',dpi=600)\n",
        "plt.show()"
      ]
    },
    {
      "cell_type": "markdown",
      "metadata": {},
      "source": [
        "### ✅ Model Selection: Gradient Boosting Classifier\n",
        "\n",
        "After evaluating multiple machine learning algorithms on the dataset, **Gradient Boosting Classifier** was chosen as the final model for this project.\n",
        "\n",
        "#### 🔍 Reason for Selection:\n",
        "- It achieved the **best overall performance** across all key evaluation metrics:\n",
        "  - **Accuracy**: High\n",
        "  - **Precision**: High\n",
        "  - **Recall**: High\n",
        "  - **F1-Score**: Balanced and strong\n",
        "  - **ROC-AUC Score**: 0.91 (indicating excellent ability to distinguish between classes)\n",
        "- It effectively handles both **categorical** and **numerical** features.\n",
        "- It is **robust to overfitting** with proper tuning and regularization.\n",
        "- Performs well on **imbalanced datasets**.\n",
        "\n",
        "#### ✅ Conclusion:\n",
        "Gradient Boosting was selected as the final model due to its **superior predictive performance** and **reliability** compared to other algorithms for this specific problem."
      ]
    },
    {
      "cell_type": "code",
      "execution_count": 66,
      "metadata": {
        "colab": {
          "base_uri": "https://localhost:8080/"
        },
        "id": "djofXbQvyYq7",
        "outputId": "d5691845-ff92-4829-8d8f-cf33a2c40dfa"
      },
      "outputs": [
        {
          "data": {
            "text/plain": [
              "['gradientboosting_model.pkl']"
            ]
          },
          "execution_count": 66,
          "metadata": {},
          "output_type": "execute_result"
        }
      ],
      "source": [
        "model = GradientBoostingClassifier(n_estimators=500,min_samples_split=15,max_depth=10,loss='log_loss',criterion='friedman_mse')\n",
        "model.fit(X_train,y_train)\n",
        "\n",
        "import joblib\n",
        "joblib.dump(model,'gradientboosting_model.pkl')"
      ]
    },
    {
      "cell_type": "code",
      "execution_count": 67,
      "metadata": {
        "colab": {
          "base_uri": "https://localhost:8080/"
        },
        "id": "Z9PNEPGXTNem",
        "outputId": "1e717151-8657-4141-a9f0-5475cb4b78ba"
      },
      "outputs": [
        {
          "data": {
            "text/plain": [
              "['preprocessor.pkl']"
            ]
          },
          "execution_count": 67,
          "metadata": {},
          "output_type": "execute_result"
        }
      ],
      "source": [
        "joblib.dump(preprocessor,'preprocessor.pkl')"
      ]
    }
  ],
  "metadata": {
    "colab": {
      "provenance": []
    },
    "kernelspec": {
      "display_name": "Python 3",
      "name": "python3"
    },
    "language_info": {
      "codemirror_mode": {
        "name": "ipython",
        "version": 3
      },
      "file_extension": ".py",
      "mimetype": "text/x-python",
      "name": "python",
      "nbconvert_exporter": "python",
      "pygments_lexer": "ipython3",
      "version": "3.12.3"
    }
  },
  "nbformat": 4,
  "nbformat_minor": 0
}
